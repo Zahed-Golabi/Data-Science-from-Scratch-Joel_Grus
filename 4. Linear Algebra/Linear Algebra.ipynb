{
 "cells": [
  {
   "cell_type": "markdown",
   "id": "b43baec2",
   "metadata": {},
   "source": [
    "# Linear Algebra"
   ]
  },
  {
   "cell_type": "markdown",
   "id": "3dc442a7",
   "metadata": {},
   "source": [
    "Linear algebra is the branch of mathematics that deals with vector\n",
    "spaces."
   ]
  },
  {
   "cell_type": "markdown",
   "id": "a6bc5683",
   "metadata": {},
   "source": [
    "### Vectors"
   ]
  },
  {
   "cell_type": "code",
   "execution_count": 1,
   "id": "6fc1b68f",
   "metadata": {},
   "outputs": [],
   "source": [
    "height_weight_age = [70, # inches\n",
    "                     170, # pounds\n",
    "                     40] # years"
   ]
  },
  {
   "cell_type": "code",
   "execution_count": 4,
   "id": "e2120a96",
   "metadata": {},
   "outputs": [],
   "source": [
    "grades = [95, #exam1\n",
    "         88, #exam2\n",
    "         75, # examp3\n",
    "          62 ]"
   ]
  },
  {
   "cell_type": "code",
   "execution_count": 5,
   "id": "cb1eb24e",
   "metadata": {},
   "outputs": [
    {
     "data": {
      "text/plain": [
       "[95, 88, 75, 62]"
      ]
     },
     "execution_count": 5,
     "metadata": {},
     "output_type": "execute_result"
    }
   ],
   "source": [
    "grades"
   ]
  },
  {
   "cell_type": "code",
   "execution_count": 6,
   "id": "e3e28c6a",
   "metadata": {},
   "outputs": [],
   "source": [
    "# add two vectors\n",
    "def vector_add(v, w):\n",
    "    \"\"\"\n",
    "    adds corresponding elements\n",
    "    \"\"\"\n",
    "    return [v+w for v,w in zip(v,w)]"
   ]
  },
  {
   "cell_type": "code",
   "execution_count": 7,
   "id": "c33528cc",
   "metadata": {},
   "outputs": [],
   "source": [
    "result = vector_add([1,2,3],[3,4,5])"
   ]
  },
  {
   "cell_type": "code",
   "execution_count": 8,
   "id": "a482ba8f",
   "metadata": {
    "scrolled": true
   },
   "outputs": [
    {
     "data": {
      "text/plain": [
       "[4, 6, 8]"
      ]
     },
     "execution_count": 8,
     "metadata": {},
     "output_type": "execute_result"
    }
   ],
   "source": [
    "results"
   ]
  },
  {
   "cell_type": "code",
   "execution_count": 9,
   "id": "f21dbb14",
   "metadata": {},
   "outputs": [],
   "source": [
    "# subtract two vectors\n",
    "def vector_subtract(v, w):\n",
    "    \"\"\"\n",
    "    subtracts corresponding elements\n",
    "    \"\"\"\n",
    "    return [v-w for v,w in zip(v,w)]"
   ]
  },
  {
   "cell_type": "code",
   "execution_count": 10,
   "id": "256a643c",
   "metadata": {},
   "outputs": [],
   "source": [
    "result = vector_subtract([5,6,7], [8,4,3])"
   ]
  },
  {
   "cell_type": "code",
   "execution_count": 11,
   "id": "a859682b",
   "metadata": {},
   "outputs": [
    {
     "data": {
      "text/plain": [
       "[-3, 2, 4]"
      ]
     },
     "execution_count": 11,
     "metadata": {},
     "output_type": "execute_result"
    }
   ],
   "source": [
    "result"
   ]
  },
  {
   "cell_type": "code",
   "execution_count": 24,
   "id": "7b5cb2a0",
   "metadata": {},
   "outputs": [],
   "source": [
    "# componentwise sum a list of vectors\n",
    "def vector_sum(vectors):\n",
    "    result = vectors[0]\n",
    "    for vector in vectors[1:]:\n",
    "        result = vector_add(result, vector)\n",
    "    return result"
   ]
  },
  {
   "cell_type": "code",
   "execution_count": 25,
   "id": "8f0b0377",
   "metadata": {},
   "outputs": [
    {
     "data": {
      "text/plain": [
       "[9, 12]"
      ]
     },
     "execution_count": 25,
     "metadata": {},
     "output_type": "execute_result"
    }
   ],
   "source": [
    "vector_sum([[1,2],[3,4],[5,6]])"
   ]
  },
  {
   "cell_type": "code",
   "execution_count": 26,
   "id": "a08b77c4",
   "metadata": {},
   "outputs": [],
   "source": [
    "def scalar_multiply(scalar, vector):\n",
    "    \"\"\"\n",
    "    scalar is a number\n",
    "    \"\"\"\n",
    "    return [v*scalar for v in vector]"
   ]
  },
  {
   "cell_type": "code",
   "execution_count": 27,
   "id": "d8a3c02f",
   "metadata": {},
   "outputs": [
    {
     "data": {
      "text/plain": [
       "[12, 15, 18]"
      ]
     },
     "execution_count": 27,
     "metadata": {},
     "output_type": "execute_result"
    }
   ],
   "source": [
    "scalar_multiply(3, [4,5,6])"
   ]
  },
  {
   "cell_type": "code",
   "execution_count": 28,
   "id": "39eeb55a",
   "metadata": {},
   "outputs": [],
   "source": [
    "def vector_mean(vectors):\n",
    "    \"\"\" compute the vector whose ith element is the mean\n",
    "    of the ith elements of the input vectors\n",
    "    \"\"\"\n",
    "    n = len(vectors)\n",
    "    return scalar_multiply(1/n, vector_sum(vectors))"
   ]
  },
  {
   "cell_type": "code",
   "execution_count": 29,
   "id": "70edc7c0",
   "metadata": {},
   "outputs": [
    {
     "data": {
      "text/plain": [
       "[2.0, 3.0]"
      ]
     },
     "execution_count": 29,
     "metadata": {},
     "output_type": "execute_result"
    }
   ],
   "source": [
    "vector_mean([[1,2],[3,4]])"
   ]
  },
  {
   "cell_type": "code",
   "execution_count": 31,
   "id": "f0a83fcd",
   "metadata": {},
   "outputs": [],
   "source": [
    "# dot product\n",
    "def dot(v,w):\n",
    "    \"\"\"\n",
    "    \"\"\"\n",
    "    return sum(v*w for v,w in zip(v,w))"
   ]
  },
  {
   "cell_type": "code",
   "execution_count": 32,
   "id": "e8f4b2e8",
   "metadata": {},
   "outputs": [
    {
     "data": {
      "text/plain": [
       "32"
      ]
     },
     "execution_count": 32,
     "metadata": {},
     "output_type": "execute_result"
    }
   ],
   "source": [
    "dot([1,2,3], [4,5,6])"
   ]
  },
  {
   "cell_type": "code",
   "execution_count": 33,
   "id": "15b88abc",
   "metadata": {},
   "outputs": [],
   "source": [
    "# vector's sum of squares\n",
    "def sum_of_square(v):\n",
    "    \"v1 * v1 + v2*v2 + .....vn*vn\"\n",
    "    return dot(v,v)"
   ]
  },
  {
   "cell_type": "code",
   "execution_count": 34,
   "id": "a0b15ea2",
   "metadata": {},
   "outputs": [
    {
     "data": {
      "text/plain": [
       "14"
      ]
     },
     "execution_count": 34,
     "metadata": {},
     "output_type": "execute_result"
    }
   ],
   "source": [
    "sum_of_square([1,2,3])"
   ]
  },
  {
   "cell_type": "code",
   "execution_count": 35,
   "id": "8483be3e",
   "metadata": {},
   "outputs": [],
   "source": [
    "# the length or magnitude of a vector\n",
    "import math\n",
    "\n",
    "def magnitude(v):\n",
    "    return math.sqrt(sum_of_square(v))"
   ]
  },
  {
   "cell_type": "code",
   "execution_count": 36,
   "id": "a366f1c6",
   "metadata": {},
   "outputs": [
    {
     "data": {
      "text/plain": [
       "3.7416573867739413"
      ]
     },
     "execution_count": 36,
     "metadata": {},
     "output_type": "execute_result"
    }
   ],
   "source": [
    "magnitude([1,2,3])"
   ]
  },
  {
   "cell_type": "code",
   "execution_count": 37,
   "id": "a3d13605",
   "metadata": {},
   "outputs": [],
   "source": [
    "def squared_distance(v,w):\n",
    "    \"\"\"\n",
    "    \"\"\"\n",
    "    return sum_of_square(vector_subtract(v,w))"
   ]
  },
  {
   "cell_type": "code",
   "execution_count": 38,
   "id": "390c598c",
   "metadata": {},
   "outputs": [],
   "source": [
    "def distance(v,w):\n",
    "    return math.sqrt(squared_distance(v,w))"
   ]
  },
  {
   "cell_type": "code",
   "execution_count": null,
   "id": "7c61a9cd",
   "metadata": {},
   "outputs": [],
   "source": []
  },
  {
   "cell_type": "markdown",
   "id": "fd0b6bbe",
   "metadata": {},
   "source": [
    "### Matrices"
   ]
  },
  {
   "cell_type": "markdown",
   "id": "0c58164d",
   "metadata": {},
   "source": [
    "A matrix is a two-dimensional collection of numbers."
   ]
  },
  {
   "cell_type": "code",
   "execution_count": 40,
   "id": "88df162f",
   "metadata": {},
   "outputs": [],
   "source": [
    "A = [[1,2,3], # A has 2 rows and 3 columns\n",
    "    [4,5,6]]"
   ]
  },
  {
   "cell_type": "code",
   "execution_count": 41,
   "id": "74daea65",
   "metadata": {},
   "outputs": [],
   "source": [
    "B = [[1,2], # B has 3 rows and 2 columns\n",
    "    [3,4],\n",
    "    [4,6]]"
   ]
  },
  {
   "cell_type": "code",
   "execution_count": 44,
   "id": "d031d0f0",
   "metadata": {},
   "outputs": [],
   "source": [
    "def shape(A):\n",
    "    \"\"\"return number of rows and columns\n",
    "    \"\"\"\n",
    "    num_rows = len(A)\n",
    "    num_columns = len(A[0]) if A else 0\n",
    "    return num_rows, num_columns"
   ]
  },
  {
   "cell_type": "code",
   "execution_count": 47,
   "id": "b5b4d3e8",
   "metadata": {},
   "outputs": [
    {
     "data": {
      "text/plain": [
       "((3, 2), (2, 3))"
      ]
     },
     "execution_count": 47,
     "metadata": {},
     "output_type": "execute_result"
    }
   ],
   "source": [
    "shape(B), shape(A)"
   ]
  },
  {
   "cell_type": "code",
   "execution_count": 48,
   "id": "c17c113c",
   "metadata": {},
   "outputs": [],
   "source": [
    "def get_row(A, i):\n",
    "    return A[i]    # A[i] is already the ith row"
   ]
  },
  {
   "cell_type": "code",
   "execution_count": 49,
   "id": "707362af",
   "metadata": {},
   "outputs": [
    {
     "data": {
      "text/plain": [
       "[3, 4]"
      ]
     },
     "execution_count": 49,
     "metadata": {},
     "output_type": "execute_result"
    }
   ],
   "source": [
    "get_row(B,1)"
   ]
  },
  {
   "cell_type": "code",
   "execution_count": 50,
   "id": "6e026f78",
   "metadata": {},
   "outputs": [],
   "source": [
    "def get_column(A, j):\n",
    "    return [A[i][j] for i in range(len(A))]"
   ]
  },
  {
   "cell_type": "code",
   "execution_count": 54,
   "id": "60d16c42",
   "metadata": {},
   "outputs": [
    {
     "data": {
      "text/plain": [
       "[2, 4, 6]"
      ]
     },
     "execution_count": 54,
     "metadata": {},
     "output_type": "execute_result"
    }
   ],
   "source": [
    "get_column(B,1)"
   ]
  },
  {
   "cell_type": "code",
   "execution_count": 55,
   "id": "b4e0dea6",
   "metadata": {},
   "outputs": [],
   "source": [
    "def get_column(A, j):\n",
    "    return [A_i[j] for A_i in A]"
   ]
  },
  {
   "cell_type": "code",
   "execution_count": 56,
   "id": "1271a02a",
   "metadata": {},
   "outputs": [
    {
     "data": {
      "text/plain": [
       "[2, 4, 6]"
      ]
     },
     "execution_count": 56,
     "metadata": {},
     "output_type": "execute_result"
    }
   ],
   "source": [
    "get_column(B,1)"
   ]
  },
  {
   "cell_type": "code",
   "execution_count": 66,
   "id": "c6ccf958",
   "metadata": {},
   "outputs": [],
   "source": [
    "def make_matrix(num_rows, num_columns, entry_fn):\n",
    "    \"\"\"\n",
    "    \"\"\"\n",
    "    return [[entry_fn(i,j)\n",
    "            for j in range(num_columns)]\n",
    "           for i in range(num_rows)]"
   ]
  },
  {
   "cell_type": "code",
   "execution_count": 67,
   "id": "1ac80efe",
   "metadata": {},
   "outputs": [],
   "source": [
    "def is_diagonal(i,j):\n",
    "    return 1 if i==j else 0"
   ]
  },
  {
   "cell_type": "code",
   "execution_count": 69,
   "id": "190bae65",
   "metadata": {},
   "outputs": [],
   "source": [
    "identity_matrix = make_matrix(5,5,is_diagonal)"
   ]
  },
  {
   "cell_type": "code",
   "execution_count": 70,
   "id": "8bc679f3",
   "metadata": {},
   "outputs": [
    {
     "data": {
      "text/plain": [
       "[[1, 0, 0, 0, 0],\n",
       " [0, 1, 0, 0, 0],\n",
       " [0, 0, 1, 0, 0],\n",
       " [0, 0, 0, 1, 0],\n",
       " [0, 0, 0, 0, 1]]"
      ]
     },
     "execution_count": 70,
     "metadata": {},
     "output_type": "execute_result"
    }
   ],
   "source": [
    "identity_matrix"
   ]
  },
  {
   "cell_type": "code",
   "execution_count": null,
   "id": "7eb1026c",
   "metadata": {},
   "outputs": [],
   "source": []
  },
  {
   "cell_type": "code",
   "execution_count": null,
   "id": "ef07967c",
   "metadata": {},
   "outputs": [],
   "source": []
  },
  {
   "cell_type": "code",
   "execution_count": null,
   "id": "8d1a9d3c",
   "metadata": {},
   "outputs": [],
   "source": []
  }
 ],
 "metadata": {
  "kernelspec": {
   "display_name": "Python 3 (ipykernel)",
   "language": "python",
   "name": "python3"
  },
  "language_info": {
   "codemirror_mode": {
    "name": "ipython",
    "version": 3
   },
   "file_extension": ".py",
   "mimetype": "text/x-python",
   "name": "python",
   "nbconvert_exporter": "python",
   "pygments_lexer": "ipython3",
   "version": "3.9.12"
  }
 },
 "nbformat": 4,
 "nbformat_minor": 5
}
