{
 "cells": [
  {
   "cell_type": "markdown",
   "id": "e374013b",
   "metadata": {},
   "source": [
    "# Linear Algebra"
   ]
  },
  {
   "cell_type": "markdown",
   "id": "ae294340",
   "metadata": {},
   "source": [
    "Linear algebra is the branch of mathematics that deals with vector\n",
    "spaces."
   ]
  },
  {
   "cell_type": "markdown",
   "id": "355fb9ea",
   "metadata": {},
   "source": [
    "### Vectors"
   ]
  },
  {
   "cell_type": "code",
   "execution_count": 1,
   "id": "f647435f",
   "metadata": {},
   "outputs": [],
   "source": [
    "height_weight_age = [70, # inches\n",
    "                     170, # pounds\n",
    "                     40] # years"
   ]
  },
  {
   "cell_type": "code",
   "execution_count": 4,
   "id": "d33cfc10",
   "metadata": {},
   "outputs": [],
   "source": [
    "grades = [95, #exam1\n",
    "         88, #exam2\n",
    "         75, # examp3\n",
    "          62 ]"
   ]
  },
  {
   "cell_type": "code",
   "execution_count": 5,
   "id": "8a21e873",
   "metadata": {},
   "outputs": [
    {
     "data": {
      "text/plain": [
       "[95, 88, 75, 62]"
      ]
     },
     "execution_count": 5,
     "metadata": {},
     "output_type": "execute_result"
    }
   ],
   "source": [
    "grades"
   ]
  },
  {
   "cell_type": "code",
   "execution_count": 6,
   "id": "1e9f87d2",
   "metadata": {},
   "outputs": [],
   "source": [
    "# add two vectors\n",
    "def vector_add(v, w):\n",
    "    \"\"\"\n",
    "    adds corresponding elements\n",
    "    \"\"\"\n",
    "    return [v+w for v,w in zip(v,w)]"
   ]
  },
  {
   "cell_type": "code",
   "execution_count": 7,
   "id": "3c70aaf2",
   "metadata": {},
   "outputs": [],
   "source": [
    "result = vector_add([1,2,3],[3,4,5])"
   ]
  },
  {
   "cell_type": "code",
   "execution_count": 8,
   "id": "e76a901d",
   "metadata": {
    "scrolled": true
   },
   "outputs": [
    {
     "data": {
      "text/plain": [
       "[4, 6, 8]"
      ]
     },
     "execution_count": 8,
     "metadata": {},
     "output_type": "execute_result"
    }
   ],
   "source": [
    "results"
   ]
  },
  {
   "cell_type": "code",
   "execution_count": 9,
   "id": "fa5756fc",
   "metadata": {},
   "outputs": [],
   "source": [
    "# subtract two vectors\n",
    "def vector_subtract(v, w):\n",
    "    \"\"\"\n",
    "    subtracts corresponding elements\n",
    "    \"\"\"\n",
    "    return [v-w for v,w in zip(v,w)]"
   ]
  },
  {
   "cell_type": "code",
   "execution_count": 10,
   "id": "6045e956",
   "metadata": {},
   "outputs": [],
   "source": [
    "result = vector_subtract([5,6,7], [8,4,3])"
   ]
  },
  {
   "cell_type": "code",
   "execution_count": 11,
   "id": "deb92cd4",
   "metadata": {},
   "outputs": [
    {
     "data": {
      "text/plain": [
       "[-3, 2, 4]"
      ]
     },
     "execution_count": 11,
     "metadata": {},
     "output_type": "execute_result"
    }
   ],
   "source": [
    "result"
   ]
  },
  {
   "cell_type": "code",
   "execution_count": 24,
   "id": "b5f39ef7",
   "metadata": {},
   "outputs": [],
   "source": [
    "# componentwise sum a list of vectors\n",
    "def vector_sum(vectors):\n",
    "    result = vectors[0]\n",
    "    for vector in vectors[1:]:\n",
    "        result = vector_add(result, vector)\n",
    "    return result"
   ]
  },
  {
   "cell_type": "code",
   "execution_count": 25,
   "id": "f590aa28",
   "metadata": {},
   "outputs": [
    {
     "data": {
      "text/plain": [
       "[9, 12]"
      ]
     },
     "execution_count": 25,
     "metadata": {},
     "output_type": "execute_result"
    }
   ],
   "source": [
    "vector_sum([[1,2],[3,4],[5,6]])"
   ]
  },
  {
   "cell_type": "code",
   "execution_count": 26,
   "id": "c4a96c20",
   "metadata": {},
   "outputs": [],
   "source": [
    "def scalar_multiply(scalar, vector):\n",
    "    \"\"\"\n",
    "    scalar is a number\n",
    "    \"\"\"\n",
    "    return [v*scalar for v in vector]"
   ]
  },
  {
   "cell_type": "code",
   "execution_count": 27,
   "id": "cf3ba6dc",
   "metadata": {},
   "outputs": [
    {
     "data": {
      "text/plain": [
       "[12, 15, 18]"
      ]
     },
     "execution_count": 27,
     "metadata": {},
     "output_type": "execute_result"
    }
   ],
   "source": [
    "scalar_multiply(3, [4,5,6])"
   ]
  },
  {
   "cell_type": "code",
   "execution_count": 28,
   "id": "31eb96cc",
   "metadata": {},
   "outputs": [],
   "source": [
    "def vector_mean(vectors):\n",
    "    \"\"\" compute the vector whose ith element is the mean\n",
    "    of the ith elements of the input vectors\n",
    "    \"\"\"\n",
    "    n = len(vectors)\n",
    "    return scalar_multiply(1/n, vector_sum(vectors))"
   ]
  },
  {
   "cell_type": "code",
   "execution_count": 29,
   "id": "4df9e218",
   "metadata": {},
   "outputs": [
    {
     "data": {
      "text/plain": [
       "[2.0, 3.0]"
      ]
     },
     "execution_count": 29,
     "metadata": {},
     "output_type": "execute_result"
    }
   ],
   "source": [
    "vector_mean([[1,2],[3,4]])"
   ]
  },
  {
   "cell_type": "code",
   "execution_count": 31,
   "id": "34be4dba",
   "metadata": {},
   "outputs": [],
   "source": [
    "# dot product\n",
    "def dot(v,w):\n",
    "    \"\"\"\n",
    "    \"\"\"\n",
    "    return sum(v*w for v,w in zip(v,w))"
   ]
  },
  {
   "cell_type": "code",
   "execution_count": 32,
   "id": "c86fd31f",
   "metadata": {},
   "outputs": [
    {
     "data": {
      "text/plain": [
       "32"
      ]
     },
     "execution_count": 32,
     "metadata": {},
     "output_type": "execute_result"
    }
   ],
   "source": [
    "dot([1,2,3], [4,5,6])"
   ]
  },
  {
   "cell_type": "code",
   "execution_count": 33,
   "id": "bff75a0b",
   "metadata": {},
   "outputs": [],
   "source": [
    "# vector's sum of squares\n",
    "def sum_of_square(v):\n",
    "    \"v1 * v1 + v2*v2 + .....vn*vn\"\n",
    "    return dot(v,v)"
   ]
  },
  {
   "cell_type": "code",
   "execution_count": 34,
   "id": "59f8e32d",
   "metadata": {},
   "outputs": [
    {
     "data": {
      "text/plain": [
       "14"
      ]
     },
     "execution_count": 34,
     "metadata": {},
     "output_type": "execute_result"
    }
   ],
   "source": [
    "sum_of_square([1,2,3])"
   ]
  },
  {
   "cell_type": "code",
   "execution_count": 35,
   "id": "5ae62814",
   "metadata": {},
   "outputs": [],
   "source": [
    "# the length or magnitude of a vector\n",
    "import math\n",
    "\n",
    "def magnitude(v):\n",
    "    return math.sqrt(sum_of_square(v))"
   ]
  },
  {
   "cell_type": "code",
   "execution_count": 36,
   "id": "f3cf8b25",
   "metadata": {},
   "outputs": [
    {
     "data": {
      "text/plain": [
       "3.7416573867739413"
      ]
     },
     "execution_count": 36,
     "metadata": {},
     "output_type": "execute_result"
    }
   ],
   "source": [
    "magnitude([1,2,3])"
   ]
  },
  {
   "cell_type": "code",
   "execution_count": 37,
   "id": "919901a0",
   "metadata": {},
   "outputs": [],
   "source": [
    "def squared_distance(v,w):\n",
    "    \"\"\"\n",
    "    \"\"\"\n",
    "    return sum_of_square(vector_subtract(v,w))"
   ]
  },
  {
   "cell_type": "code",
   "execution_count": 38,
   "id": "f6eb5d09",
   "metadata": {},
   "outputs": [],
   "source": [
    "def distance(v,w):\n",
    "    return math.sqrt(squared_distance(v,w))"
   ]
  },
  {
   "cell_type": "code",
   "execution_count": null,
   "id": "40030a85",
   "metadata": {},
   "outputs": [],
   "source": []
  }
 ],
 "metadata": {
  "kernelspec": {
   "display_name": "Python 3 (ipykernel)",
   "language": "python",
   "name": "python3"
  },
  "language_info": {
   "codemirror_mode": {
    "name": "ipython",
    "version": 3
   },
   "file_extension": ".py",
   "mimetype": "text/x-python",
   "name": "python",
   "nbconvert_exporter": "python",
   "pygments_lexer": "ipython3",
   "version": "3.9.12"
  }
 },
 "nbformat": 4,
 "nbformat_minor": 5
}
