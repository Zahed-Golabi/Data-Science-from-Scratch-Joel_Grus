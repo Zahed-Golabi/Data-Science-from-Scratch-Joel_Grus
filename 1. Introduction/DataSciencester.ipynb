{
 "cells": [
  {
   "cell_type": "markdown",
   "id": "6d4f33a9",
   "metadata": {},
   "source": [
    "# First Chapter- Introduction"
   ]
  },
  {
   "cell_type": "code",
   "execution_count": 1,
   "id": "6897456d",
   "metadata": {},
   "outputs": [],
   "source": [
    "# Each person info is stored in dictionary\n",
    "users = [{\"id\":0, \"name\":\"Hero\"},\n",
    "        {\"id\":1, \"name\":\"Dunn\"},\n",
    "        {\"id\":2, \"name\":\"Sue\"},\n",
    "        {\"id\":3, \"name\":\"Chi\"},\n",
    "        {\"id\":4, \"name\":\"Thor\"},\n",
    "        {\"id\":5, \"name\":\"Clive\"},\n",
    "        {\"id\":6, \"name\":\"Hicks\"},\n",
    "        {\"id\":7, \"name\":\"Devin\"},\n",
    "        {\"id\":8, \"name\":\"Kate\"},\n",
    "        {\"id\":9, \"name\":\"Klein\"}\n",
    "        ]"
   ]
  },
  {
   "cell_type": "code",
   "execution_count": 2,
   "id": "e3574034",
   "metadata": {},
   "outputs": [],
   "source": [
    "# Friendships\n",
    "friendships = [(0,1), (0,2), (1,2), (1,3), (2,3), (3,4),\n",
    "              (4,5), (5,6), (5,7), (6,8), (7,8), (8,9)\n",
    "              ]"
   ]
  },
  {
   "cell_type": "code",
   "execution_count": 3,
   "id": "254c4081",
   "metadata": {},
   "outputs": [
    {
     "name": "stdout",
     "output_type": "stream",
     "text": [
      "{'id': 0, 'name': 'Hero'}\n",
      "{'id': 1, 'name': 'Dunn'}\n",
      "{'id': 2, 'name': 'Sue'}\n",
      "{'id': 3, 'name': 'Chi'}\n",
      "{'id': 4, 'name': 'Thor'}\n",
      "{'id': 5, 'name': 'Clive'}\n",
      "{'id': 6, 'name': 'Hicks'}\n",
      "{'id': 7, 'name': 'Devin'}\n",
      "{'id': 8, 'name': 'Kate'}\n",
      "{'id': 9, 'name': 'Klein'}\n"
     ]
    }
   ],
   "source": [
    "for user in users:\n",
    "    print(user)"
   ]
  },
  {
   "cell_type": "code",
   "execution_count": 4,
   "id": "f7c523e8",
   "metadata": {},
   "outputs": [],
   "source": [
    "for user in users:\n",
    "    user[\"friends\"] = []"
   ]
  },
  {
   "cell_type": "code",
   "execution_count": 5,
   "id": "4bc1d2a1",
   "metadata": {},
   "outputs": [
    {
     "data": {
      "text/plain": [
       "[{'id': 0, 'name': 'Hero', 'friends': []},\n",
       " {'id': 1, 'name': 'Dunn', 'friends': []},\n",
       " {'id': 2, 'name': 'Sue', 'friends': []},\n",
       " {'id': 3, 'name': 'Chi', 'friends': []},\n",
       " {'id': 4, 'name': 'Thor', 'friends': []},\n",
       " {'id': 5, 'name': 'Clive', 'friends': []},\n",
       " {'id': 6, 'name': 'Hicks', 'friends': []},\n",
       " {'id': 7, 'name': 'Devin', 'friends': []},\n",
       " {'id': 8, 'name': 'Kate', 'friends': []},\n",
       " {'id': 9, 'name': 'Klein', 'friends': []}]"
      ]
     },
     "execution_count": 5,
     "metadata": {},
     "output_type": "execute_result"
    }
   ],
   "source": [
    "users"
   ]
  },
  {
   "cell_type": "code",
   "execution_count": 6,
   "id": "6f1d481a",
   "metadata": {},
   "outputs": [],
   "source": [
    "for i,j in friendships:\n",
    "    users[i][\"friends\"].append(users[j])\n",
    "    users[j][\"friends\"].append(users[i])"
   ]
  },
  {
   "cell_type": "code",
   "execution_count": 7,
   "id": "0377c27c",
   "metadata": {},
   "outputs": [],
   "source": [
    "def number_of_friends(user):\n",
    "    \"\"\" friends of each user\"\"\"\n",
    "    return len(user[\"friends\"])"
   ]
  },
  {
   "cell_type": "code",
   "execution_count": 8,
   "id": "02fe2086",
   "metadata": {},
   "outputs": [],
   "source": [
    "total_connections = sum(number_of_friends(user) for user in users)"
   ]
  },
  {
   "cell_type": "code",
   "execution_count": 9,
   "id": "785ee175",
   "metadata": {},
   "outputs": [
    {
     "name": "stdout",
     "output_type": "stream",
     "text": [
      "24\n"
     ]
    }
   ],
   "source": [
    "print(total_connections)"
   ]
  },
  {
   "cell_type": "code",
   "execution_count": 10,
   "id": "ee0c95ce",
   "metadata": {},
   "outputs": [],
   "source": [
    "num_users = len(users)\n",
    "avg_connections = total_connections / num_users"
   ]
  },
  {
   "cell_type": "code",
   "execution_count": 11,
   "id": "b854b296",
   "metadata": {},
   "outputs": [
    {
     "name": "stdout",
     "output_type": "stream",
     "text": [
      "2.4\n"
     ]
    }
   ],
   "source": [
    "print(avg_connections)"
   ]
  },
  {
   "cell_type": "code",
   "execution_count": 12,
   "id": "b2f032b0",
   "metadata": {},
   "outputs": [],
   "source": [
    "def max_friends(users):\n",
    "    return max(len(user[\"friends\"]) for user in users)"
   ]
  },
  {
   "cell_type": "code",
   "execution_count": 13,
   "id": "09404ea6",
   "metadata": {},
   "outputs": [
    {
     "data": {
      "text/plain": [
       "3"
      ]
     },
     "execution_count": 13,
     "metadata": {},
     "output_type": "execute_result"
    }
   ],
   "source": [
    "max_friends(users)"
   ]
  },
  {
   "cell_type": "code",
   "execution_count": 14,
   "id": "e254d875",
   "metadata": {},
   "outputs": [],
   "source": [
    "num_friends_by_id = [(user[\"id\"], number_of_friends(user)) for user in users]"
   ]
  },
  {
   "cell_type": "code",
   "execution_count": 15,
   "id": "cdfe842c",
   "metadata": {},
   "outputs": [
    {
     "data": {
      "text/plain": [
       "[(0, 2),\n",
       " (1, 3),\n",
       " (2, 3),\n",
       " (3, 3),\n",
       " (4, 2),\n",
       " (5, 3),\n",
       " (6, 2),\n",
       " (7, 2),\n",
       " (8, 3),\n",
       " (9, 1)]"
      ]
     },
     "execution_count": 15,
     "metadata": {},
     "output_type": "execute_result"
    }
   ],
   "source": [
    "num_friends_by_id"
   ]
  },
  {
   "cell_type": "code",
   "execution_count": 16,
   "id": "05acd5a3",
   "metadata": {},
   "outputs": [
    {
     "data": {
      "text/plain": [
       "[(1, 3),\n",
       " (2, 3),\n",
       " (3, 3),\n",
       " (5, 3),\n",
       " (8, 3),\n",
       " (0, 2),\n",
       " (4, 2),\n",
       " (6, 2),\n",
       " (7, 2),\n",
       " (9, 1)]"
      ]
     },
     "execution_count": 16,
     "metadata": {},
     "output_type": "execute_result"
    }
   ],
   "source": [
    "sorted(num_friends_by_id,\n",
    "       key=lambda friends:friends[1] ,\n",
    "       reverse=True)"
   ]
  },
  {
   "cell_type": "code",
   "execution_count": 17,
   "id": "2e846577",
   "metadata": {},
   "outputs": [],
   "source": [
    "# Data Scientists You May Know\n",
    "def friends_of_friend_ids_bad(user):\n",
    "    return [foaf[\"id\"]\n",
    "           for friend in user[\"friends\"]\n",
    "           for foaf in friend[\"friends\"]]"
   ]
  },
  {
   "cell_type": "code",
   "execution_count": 18,
   "id": "600699d6",
   "metadata": {},
   "outputs": [
    {
     "data": {
      "text/plain": [
       "[0, 2, 3, 0, 1, 3]"
      ]
     },
     "execution_count": 18,
     "metadata": {},
     "output_type": "execute_result"
    }
   ],
   "source": [
    "friends_of_friend_ids_bad(users[0])"
   ]
  },
  {
   "cell_type": "code",
   "execution_count": 19,
   "id": "1f3c9c86",
   "metadata": {},
   "outputs": [
    {
     "name": "stdout",
     "output_type": "stream",
     "text": [
      "[1, 2]\n",
      "[0, 2, 3]\n",
      "[0, 1, 3]\n"
     ]
    }
   ],
   "source": [
    "print([friend[\"id\"] for friend in users[0][\"friends\"]])\n",
    "print([friend[\"id\"] for friend in users[1][\"friends\"]])\n",
    "print([friend[\"id\"] for friend in users[2][\"friends\"]])"
   ]
  },
  {
   "cell_type": "code",
   "execution_count": 20,
   "id": "2f7c080a",
   "metadata": {},
   "outputs": [],
   "source": [
    "from collections import Counter"
   ]
  },
  {
   "cell_type": "code",
   "execution_count": 21,
   "id": "d0c23055",
   "metadata": {},
   "outputs": [],
   "source": [
    "def not_the_same(user, other_user):\n",
    "    \"\"\"two users are not the same if they have different ids\"\"\"\n",
    "    return user[\"id\"] != other_user[\"id\"]\n",
    "\n",
    "def not_friends(user, other_user):\n",
    "    return all(not_the_same(friend, other_user)\n",
    "              for friend in user[\"friends\"])\n",
    "\n",
    "def friends_of_friend_ids(user):\n",
    "    return Counter(foaf[\"id\"]\n",
    "                  for friend in user[\"friends\"]\n",
    "                  for foaf in friend[\"friends\"]\n",
    "                  if not_the_same(user, foaf)\n",
    "                  and not_friends(user, foaf))\n"
   ]
  },
  {
   "cell_type": "code",
   "execution_count": 22,
   "id": "21699f92",
   "metadata": {},
   "outputs": [
    {
     "name": "stdout",
     "output_type": "stream",
     "text": [
      "Counter({0: 2, 5: 1})\n"
     ]
    }
   ],
   "source": [
    "print(friends_of_friend_ids(users[3]))"
   ]
  },
  {
   "cell_type": "code",
   "execution_count": 23,
   "id": "d84a7a4c",
   "metadata": {},
   "outputs": [],
   "source": [
    "interests = [\n",
    "(0, \"Hadoop\"), (0, \"Big Data\"), (0, \"HBase\"), (0, \"Java\"),\n",
    "(0, \"Spark\"), (0, \"Storm\"), (0, \"Cassandra\"),\n",
    "(1, \"NoSQL\"), (1, \"MongoDB\"), (1, \"Cassandra\"), (1, \"HBase\"),\n",
    "(1, \"Postgres\"), (2, \"Python\"), (2, \"scikit-learn\"), (2, \"scipy\"),\n",
    "(2, \"numpy\"), (2, \"statsmodels\"), (2, \"pandas\"), (3, \"R\"), (3, \"Python\"),\n",
    "(3, \"statistics\"), (3, \"regression\"), (3, \"probability\"),\n",
    "(4, \"machine learning\"), (4, \"regression\"), (4, \"decision trees\"),\n",
    "(4, \"libsvm\"), (5, \"Python\"), (5, \"R\"), (5, \"Java\"), (5, \"C++\"),\n",
    "(5, \"Haskell\"), (5, \"programming languages\"), (6, \"statistics\"),\n",
    "(6, \"probability\"), (6, \"mathematics\"), (6, \"theory\"),\n",
    "(7, \"machine learning\"), (7, \"scikit-learn\"), (7, \"Mahout\"),\n",
    "(7, \"neural networks\"), (8, \"neural networks\"), (8, \"deep learning\"),\n",
    "(8, \"Big Data\"), (8, \"artificial intelligence\"), (9, \"Hadoop\"),\n",
    "(9, \"Java\"), (9, \"MapReduce\"), (9, \"Big Data\")\n",
    "]"
   ]
  },
  {
   "cell_type": "code",
   "execution_count": 24,
   "id": "9ab4c489",
   "metadata": {},
   "outputs": [],
   "source": [
    "def data_scientist_who_like(target_interest):\n",
    "    return [user_id for user_id,user_interest in interests\n",
    "           if user_interest==target_interest]"
   ]
  },
  {
   "cell_type": "code",
   "execution_count": 25,
   "id": "8bc639fa",
   "metadata": {},
   "outputs": [
    {
     "data": {
      "text/plain": [
       "[4, 7]"
      ]
     },
     "execution_count": 25,
     "metadata": {},
     "output_type": "execute_result"
    }
   ],
   "source": [
    "data_scientist_who_like(\"machine learning\")"
   ]
  },
  {
   "cell_type": "code",
   "execution_count": 26,
   "id": "e14a149c",
   "metadata": {},
   "outputs": [],
   "source": [
    "user_ids_by_interest = {user_id:[] for user_id,interest in interests}"
   ]
  },
  {
   "cell_type": "code",
   "execution_count": 27,
   "id": "54c589fd",
   "metadata": {},
   "outputs": [
    {
     "data": {
      "text/plain": [
       "{0: [], 1: [], 2: [], 3: [], 4: [], 5: [], 6: [], 7: [], 8: [], 9: []}"
      ]
     },
     "execution_count": 27,
     "metadata": {},
     "output_type": "execute_result"
    }
   ],
   "source": [
    "user_ids_by_interest"
   ]
  },
  {
   "cell_type": "code",
   "execution_count": 28,
   "id": "acc2dda6",
   "metadata": {},
   "outputs": [],
   "source": [
    "for user_id,user_interest in interests:\n",
    "    user_ids_by_interest[user_id].append(user_interest)"
   ]
  },
  {
   "cell_type": "code",
   "execution_count": 29,
   "id": "9b8f30b6",
   "metadata": {},
   "outputs": [
    {
     "data": {
      "text/plain": [
       "{0: ['Hadoop', 'Big Data', 'HBase', 'Java', 'Spark', 'Storm', 'Cassandra'],\n",
       " 1: ['NoSQL', 'MongoDB', 'Cassandra', 'HBase', 'Postgres'],\n",
       " 2: ['Python', 'scikit-learn', 'scipy', 'numpy', 'statsmodels', 'pandas'],\n",
       " 3: ['R', 'Python', 'statistics', 'regression', 'probability'],\n",
       " 4: ['machine learning', 'regression', 'decision trees', 'libsvm'],\n",
       " 5: ['Python', 'R', 'Java', 'C++', 'Haskell', 'programming languages'],\n",
       " 6: ['statistics', 'probability', 'mathematics', 'theory'],\n",
       " 7: ['machine learning', 'scikit-learn', 'Mahout', 'neural networks'],\n",
       " 8: ['neural networks',\n",
       "  'deep learning',\n",
       "  'Big Data',\n",
       "  'artificial intelligence'],\n",
       " 9: ['Hadoop', 'Java', 'MapReduce', 'Big Data']}"
      ]
     },
     "execution_count": 29,
     "metadata": {},
     "output_type": "execute_result"
    }
   ],
   "source": [
    "user_ids_by_interest"
   ]
  },
  {
   "cell_type": "code",
   "execution_count": 30,
   "id": "4359cbc2",
   "metadata": {},
   "outputs": [],
   "source": [
    "interest_by_user_id = {interest:[] for user_id,interest in interests}"
   ]
  },
  {
   "cell_type": "code",
   "execution_count": 31,
   "id": "e1d67b20",
   "metadata": {},
   "outputs": [
    {
     "data": {
      "text/plain": [
       "{'Hadoop': [],\n",
       " 'Big Data': [],\n",
       " 'HBase': [],\n",
       " 'Java': [],\n",
       " 'Spark': [],\n",
       " 'Storm': [],\n",
       " 'Cassandra': [],\n",
       " 'NoSQL': [],\n",
       " 'MongoDB': [],\n",
       " 'Postgres': [],\n",
       " 'Python': [],\n",
       " 'scikit-learn': [],\n",
       " 'scipy': [],\n",
       " 'numpy': [],\n",
       " 'statsmodels': [],\n",
       " 'pandas': [],\n",
       " 'R': [],\n",
       " 'statistics': [],\n",
       " 'regression': [],\n",
       " 'probability': [],\n",
       " 'machine learning': [],\n",
       " 'decision trees': [],\n",
       " 'libsvm': [],\n",
       " 'C++': [],\n",
       " 'Haskell': [],\n",
       " 'programming languages': [],\n",
       " 'mathematics': [],\n",
       " 'theory': [],\n",
       " 'Mahout': [],\n",
       " 'neural networks': [],\n",
       " 'deep learning': [],\n",
       " 'artificial intelligence': [],\n",
       " 'MapReduce': []}"
      ]
     },
     "execution_count": 31,
     "metadata": {},
     "output_type": "execute_result"
    }
   ],
   "source": [
    "interest_by_user_id"
   ]
  },
  {
   "cell_type": "code",
   "execution_count": 32,
   "id": "02f0b990",
   "metadata": {},
   "outputs": [],
   "source": [
    "for user_id,interest in interests:\n",
    "    interest_by_user_id[interest].append(user_id)"
   ]
  },
  {
   "cell_type": "code",
   "execution_count": 33,
   "id": "4abc0618",
   "metadata": {},
   "outputs": [
    {
     "data": {
      "text/plain": [
       "{'Hadoop': [0, 9],\n",
       " 'Big Data': [0, 8, 9],\n",
       " 'HBase': [0, 1],\n",
       " 'Java': [0, 5, 9],\n",
       " 'Spark': [0],\n",
       " 'Storm': [0],\n",
       " 'Cassandra': [0, 1],\n",
       " 'NoSQL': [1],\n",
       " 'MongoDB': [1],\n",
       " 'Postgres': [1],\n",
       " 'Python': [2, 3, 5],\n",
       " 'scikit-learn': [2, 7],\n",
       " 'scipy': [2],\n",
       " 'numpy': [2],\n",
       " 'statsmodels': [2],\n",
       " 'pandas': [2],\n",
       " 'R': [3, 5],\n",
       " 'statistics': [3, 6],\n",
       " 'regression': [3, 4],\n",
       " 'probability': [3, 6],\n",
       " 'machine learning': [4, 7],\n",
       " 'decision trees': [4],\n",
       " 'libsvm': [4],\n",
       " 'C++': [5],\n",
       " 'Haskell': [5],\n",
       " 'programming languages': [5],\n",
       " 'mathematics': [6],\n",
       " 'theory': [6],\n",
       " 'Mahout': [7],\n",
       " 'neural networks': [7, 8],\n",
       " 'deep learning': [8],\n",
       " 'artificial intelligence': [8],\n",
       " 'MapReduce': [9]}"
      ]
     },
     "execution_count": 33,
     "metadata": {},
     "output_type": "execute_result"
    }
   ],
   "source": [
    "interest_by_user_id"
   ]
  },
  {
   "cell_type": "markdown",
   "id": "261e6272",
   "metadata": {},
   "source": [
    "---"
   ]
  },
  {
   "cell_type": "markdown",
   "id": "b65bbd36",
   "metadata": {},
   "source": [
    "## Salaries and Experience"
   ]
  },
  {
   "cell_type": "code",
   "execution_count": 34,
   "id": "e6b49fda",
   "metadata": {},
   "outputs": [],
   "source": [
    "salaries_and_tenures = [(83000, 8.7), (88000, 8.1),\n",
    "                       (48000, 0.7), (76000, 6),\n",
    "                       (69000, 6.5), (76000, 7.5),\n",
    "                       (60000, 2.5), (83000, 10),\n",
    "                       (48000, 1.9), (63000, 4.2)\n",
    "                       ]"
   ]
  },
  {
   "cell_type": "code",
   "execution_count": 35,
   "id": "0fe98228",
   "metadata": {},
   "outputs": [],
   "source": [
    "import matplotlib.pyplot as plt"
   ]
  },
  {
   "cell_type": "code",
   "execution_count": 54,
   "id": "61a863fa",
   "metadata": {},
   "outputs": [
    {
     "data": {
      "text/plain": [
       "<matplotlib.collections.PathCollection at 0x1abdc5271c0>"
      ]
     },
     "execution_count": 54,
     "metadata": {},
     "output_type": "execute_result"
    },
    {
     "data": {
      "image/png": "[encoded data removed]",
      "text/plain": [
       "<Figure size 432x288 with 1 Axes>"
      ]
     },
     "metadata": {
      "needs_background": "light"
     },
     "output_type": "display_data"
    }
   ],
   "source": [
    "plt.xlabel(\"Year Experience\")\n",
    "plt.ylabel(\"Salary\")\n",
    "plt.title(\"Salary by Year of Experience\")\n",
    "plt.scatter([year for salary,year in salaries_and_tenures],\n",
    "        [salary for salary,year in salaries_and_tenures])"
   ]
  },
  {
   "cell_type": "code",
   "execution_count": 57,
   "id": "e28a10a1",
   "metadata": {},
   "outputs": [],
   "source": [
    "# Keys are years, values are lists of the salaries for each tenure\n",
    "salary_by_tenure = {tenure:[] for salary,tenure in salaries_and_tenures}"
   ]
  },
  {
   "cell_type": "code",
   "execution_count": 58,
   "id": "fd48ae12",
   "metadata": {},
   "outputs": [
    {
     "data": {
      "text/plain": [
       "{8.7: [],\n",
       " 8.1: [],\n",
       " 0.7: [],\n",
       " 6: [],\n",
       " 6.5: [],\n",
       " 7.5: [],\n",
       " 2.5: [],\n",
       " 10: [],\n",
       " 1.9: [],\n",
       " 4.2: []}"
      ]
     },
     "execution_count": 58,
     "metadata": {},
     "output_type": "execute_result"
    }
   ],
   "source": [
    "salary_by_tenure"
   ]
  },
  {
   "cell_type": "code",
   "execution_count": 59,
   "id": "8e03d6a6",
   "metadata": {},
   "outputs": [],
   "source": [
    "for salary,tenure in salaries_and_tenures:\n",
    "    salary_by_tenure[tenure].append(salary)"
   ]
  },
  {
   "cell_type": "code",
   "execution_count": 60,
   "id": "ed5dd0ea",
   "metadata": {},
   "outputs": [
    {
     "data": {
      "text/plain": [
       "{8.7: [83000],\n",
       " 8.1: [88000],\n",
       " 0.7: [48000],\n",
       " 6: [76000],\n",
       " 6.5: [69000],\n",
       " 7.5: [76000],\n",
       " 2.5: [60000],\n",
       " 10: [83000],\n",
       " 1.9: [48000],\n",
       " 4.2: [63000]}"
      ]
     },
     "execution_count": 60,
     "metadata": {},
     "output_type": "execute_result"
    }
   ],
   "source": [
    "salary_by_tenure"
   ]
  },
  {
   "cell_type": "code",
   "execution_count": 61,
   "id": "d7772125",
   "metadata": {},
   "outputs": [],
   "source": [
    "# Keys are years, each value is average salary for that tenure\n",
    "average_salary_by_tenure = {\n",
    "    tenure: sum(salaries) / len(salaries)\n",
    "    for tenure,salaries in salary_by_tenure.items()\n",
    "}"
   ]
  },
  {
   "cell_type": "code",
   "execution_count": 63,
   "id": "2ef2185f",
   "metadata": {},
   "outputs": [
    {
     "data": {
      "text/plain": [
       "{8.7: 83000.0,\n",
       " 8.1: 88000.0,\n",
       " 0.7: 48000.0,\n",
       " 6: 76000.0,\n",
       " 6.5: 69000.0,\n",
       " 7.5: 76000.0,\n",
       " 2.5: 60000.0,\n",
       " 10: 83000.0,\n",
       " 1.9: 48000.0,\n",
       " 4.2: 63000.0}"
      ]
     },
     "execution_count": 63,
     "metadata": {},
     "output_type": "execute_result"
    }
   ],
   "source": [
    "average_salary_by_tenure"
   ]
  },
  {
   "cell_type": "code",
   "execution_count": 64,
   "id": "97726d82",
   "metadata": {},
   "outputs": [],
   "source": [
    "# Bucket the tenures\n",
    "def tenure_bucket(tenure):\n",
    "    if tenure < 2:\n",
    "        return \"less than two\"\n",
    "    elif tenure < 5:\n",
    "        return \"between two and five\"\n",
    "    else:\n",
    "        return \"more than five\""
   ]
  },
  {
   "cell_type": "code",
   "execution_count": 69,
   "id": "84a55159",
   "metadata": {},
   "outputs": [],
   "source": [
    "bucket_groups = [\"less than two\", \"between two and five\",\n",
    "                \"more than five\"]\n",
    "\n",
    "# Keys are tenure buckets, values are lists of salaries for that bucket\n",
    "salary_by_tenure_bucket = {bucket:[] for bucket in bucket_groups}"
   ]
  },
  {
   "cell_type": "code",
   "execution_count": 70,
   "id": "ad5affdb",
   "metadata": {},
   "outputs": [],
   "source": [
    "for salary,tenure in salaries_and_tenures:\n",
    "    bucket = tenure_bucket(tenure)\n",
    "    salary_by_tenure_bucket[bucket].append(salary)"
   ]
  },
  {
   "cell_type": "code",
   "execution_count": 71,
   "id": "0730664b",
   "metadata": {},
   "outputs": [
    {
     "data": {
      "text/plain": [
       "{'less than two': [48000, 48000],\n",
       " 'between two and five': [60000, 63000],\n",
       " 'more than five': [83000, 88000, 76000, 69000, 76000, 83000]}"
      ]
     },
     "execution_count": 71,
     "metadata": {},
     "output_type": "execute_result"
    }
   ],
   "source": [
    "salary_by_tenure_bucket"
   ]
  },
  {
   "cell_type": "code",
   "execution_count": 72,
   "id": "a626dcf3",
   "metadata": {},
   "outputs": [],
   "source": [
    "# Keys are tenure buckets, value are average salary for that bucket\n",
    "average_salary_by_bucket = {\n",
    "    bucket: sum(salaries) / len(salaries)\n",
    "    for bucket,salaries in salary_by_tenure_bucket.items()\n",
    "}"
   ]
  },
  {
   "cell_type": "code",
   "execution_count": 73,
   "id": "f6f9dcd3",
   "metadata": {},
   "outputs": [
    {
     "data": {
      "text/plain": [
       "{'less than two': 48000.0,\n",
       " 'between two and five': 61500.0,\n",
       " 'more than five': 79166.66666666667}"
      ]
     },
     "execution_count": 73,
     "metadata": {},
     "output_type": "execute_result"
    }
   ],
   "source": [
    "average_salary_by_bucket"
   ]
  },
  {
   "cell_type": "markdown",
   "id": "cc6770e1",
   "metadata": {},
   "source": [
    "---"
   ]
  },
  {
   "cell_type": "markdown",
   "id": "fa448c36",
   "metadata": {},
   "source": [
    "## Paid Accounts"
   ]
  },
  {
   "cell_type": "code",
   "execution_count": 74,
   "id": "aea3215b",
   "metadata": {},
   "outputs": [],
   "source": [
    "def predict_paid_or_unpaid(years_experience):\n",
    "    if years_experience < 3.0:\n",
    "        return \"paid\"\n",
    "    elif years_experience < 8.5:\n",
    "        return \"unpaid\"\n",
    "    else:\n",
    "        return \"paid\"\n",
    "    "
   ]
  },
  {
   "cell_type": "code",
   "execution_count": 76,
   "id": "2c680be0",
   "metadata": {},
   "outputs": [],
   "source": [
    "interests = [\n",
    "        (0, \"Hadoop\"), (0, \"Big Data\"), (0, \"HBase\"), (0, \"Java\"),\n",
    "        (0, \"Spark\"), (0, \"Storm\"), (0, \"Cassandra\"),\n",
    "        (1, \"NoSQL\"), (1, \"MongoDB\"), (1, \"Cassandra\"), (1, \"HBase\"),\n",
    "        (1, \"Postgres\"), (2, \"Python\"), (2, \"scikit-learn\"), (2, \"scipy\"),\n",
    "        (2, \"numpy\"), (2, \"statsmodels\"), (2, \"pandas\"), (3, \"R\"), (3, \"Python\"),\n",
    "        (3, \"statistics\"), (3, \"regression\"), (3, \"probability\"),\n",
    "        (4, \"machine learning\"), (4, \"regression\"), (4, \"decision trees\"),\n",
    "        (4, \"libsvm\"), (5, \"Python\"), (5, \"R\"), (5, \"Java\"), (5, \"C++\"),\n",
    "        (5, \"Haskell\"), (5, \"programming languages\"), (6, \"statistics\"),\n",
    "        (6, \"probability\"), (6, \"mathematics\"), (6, \"theory\"),\n",
    "        (7, \"machine learning\"), (7, \"scikit-learn\"), (7, \"Mahout\"),\n",
    "        (7, \"neural networks\"), (8, \"neural networks\"), (8, \"deep learning\"),\n",
    "        (8, \"Big Data\"), (8, \"artificial intelligence\"), (9, \"Hadoop\"),\n",
    "        (9, \"Java\"), (9, \"MapReduce\"), (9, \"Big Data\")\n",
    "    ]"
   ]
  },
  {
   "cell_type": "code",
   "execution_count": 77,
   "id": "a9814832",
   "metadata": {},
   "outputs": [],
   "source": [
    "words_and_counts = Counter(word\n",
    "                          for user,interest in interests\n",
    "                          for word in interest.lower().split())"
   ]
  },
  {
   "cell_type": "code",
   "execution_count": 85,
   "id": "5aecf8f4",
   "metadata": {},
   "outputs": [
    {
     "data": {
      "text/plain": [
       "Counter({'hadoop': 2,\n",
       "         'big': 3,\n",
       "         'data': 3,\n",
       "         'hbase': 2,\n",
       "         'java': 3,\n",
       "         'spark': 1,\n",
       "         'storm': 1,\n",
       "         'cassandra': 2,\n",
       "         'nosql': 1,\n",
       "         'mongodb': 1,\n",
       "         'postgres': 1,\n",
       "         'python': 3,\n",
       "         'scikit-learn': 2,\n",
       "         'scipy': 1,\n",
       "         'numpy': 1,\n",
       "         'statsmodels': 1,\n",
       "         'pandas': 1,\n",
       "         'r': 2,\n",
       "         'statistics': 2,\n",
       "         'regression': 2,\n",
       "         'probability': 2,\n",
       "         'machine': 2,\n",
       "         'learning': 3,\n",
       "         'decision': 1,\n",
       "         'trees': 1,\n",
       "         'libsvm': 1,\n",
       "         'c++': 1,\n",
       "         'haskell': 1,\n",
       "         'programming': 1,\n",
       "         'languages': 1,\n",
       "         'mathematics': 1,\n",
       "         'theory': 1,\n",
       "         'mahout': 1,\n",
       "         'neural': 2,\n",
       "         'networks': 2,\n",
       "         'deep': 1,\n",
       "         'artificial': 1,\n",
       "         'intelligence': 1,\n",
       "         'mapreduce': 1})"
      ]
     },
     "execution_count": 85,
     "metadata": {},
     "output_type": "execute_result"
    }
   ],
   "source": [
    "words_and_counts"
   ]
  },
  {
   "cell_type": "code",
   "execution_count": 86,
   "id": "81448fee",
   "metadata": {},
   "outputs": [
    {
     "data": {
      "text/plain": [
       "[('big', 3),\n",
       " ('data', 3),\n",
       " ('java', 3),\n",
       " ('python', 3),\n",
       " ('learning', 3),\n",
       " ('hadoop', 2),\n",
       " ('hbase', 2),\n",
       " ('cassandra', 2),\n",
       " ('scikit-learn', 2),\n",
       " ('r', 2),\n",
       " ('statistics', 2),\n",
       " ('regression', 2),\n",
       " ('probability', 2),\n",
       " ('machine', 2),\n",
       " ('neural', 2),\n",
       " ('networks', 2),\n",
       " ('spark', 1),\n",
       " ('storm', 1),\n",
       " ('nosql', 1),\n",
       " ('mongodb', 1),\n",
       " ('postgres', 1),\n",
       " ('scipy', 1),\n",
       " ('numpy', 1),\n",
       " ('statsmodels', 1),\n",
       " ('pandas', 1),\n",
       " ('decision', 1),\n",
       " ('trees', 1),\n",
       " ('libsvm', 1),\n",
       " ('c++', 1),\n",
       " ('haskell', 1),\n",
       " ('programming', 1),\n",
       " ('languages', 1),\n",
       " ('mathematics', 1),\n",
       " ('theory', 1),\n",
       " ('mahout', 1),\n",
       " ('deep', 1),\n",
       " ('artificial', 1),\n",
       " ('intelligence', 1),\n",
       " ('mapreduce', 1)]"
      ]
     },
     "execution_count": 86,
     "metadata": {},
     "output_type": "execute_result"
    }
   ],
   "source": [
    "words_and_counts.most_common()"
   ]
  },
  {
   "cell_type": "code",
   "execution_count": 87,
   "id": "11b76f09",
   "metadata": {},
   "outputs": [
    {
     "name": "stdout",
     "output_type": "stream",
     "text": [
      "big :  3\n",
      "data :  3\n",
      "java :  3\n",
      "python :  3\n",
      "learning :  3\n",
      "hadoop :  2\n",
      "hbase :  2\n",
      "cassandra :  2\n",
      "scikit-learn :  2\n",
      "r :  2\n",
      "statistics :  2\n",
      "regression :  2\n",
      "probability :  2\n",
      "machine :  2\n",
      "neural :  2\n",
      "networks :  2\n"
     ]
    }
   ],
   "source": [
    "for word,count in words_and_counts.most_common():\n",
    "    if count > 1:\n",
    "        print(word,\": \", count)"
   ]
  },
  {
   "cell_type": "markdown",
   "id": "aa69190d",
   "metadata": {},
   "source": [
    "# Well Done!"
   ]
  }
 ],
 "metadata": {
  "kernelspec": {
   "display_name": "Python 3 (ipykernel)",
   "language": "python",
   "name": "python3"
  },
  "language_info": {
   "codemirror_mode": {
    "name": "ipython",
    "version": 3
   },
   "file_extension": ".py",
   "mimetype": "text/x-python",
   "name": "python",
   "nbconvert_exporter": "python",
   "pygments_lexer": "ipython3",
   "version": "3.9.12"
  }
 },
 "nbformat": 4,
 "nbformat_minor": 5
}
