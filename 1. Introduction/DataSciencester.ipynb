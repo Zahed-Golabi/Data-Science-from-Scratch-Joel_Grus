{
 "cells": [
  {
   "cell_type": "code",
   "execution_count": 1,
   "id": "6897456d",
   "metadata": {},
   "outputs": [],
   "source": [
    "# Each person info is stored in dictionary\n",
    "users = [{\"id\":0, \"name\":\"Hero\"},\n",
    "        {\"id\":1, \"name\":\"Dunn\"},\n",
    "        {\"id\":2, \"name\":\"Sue\"},\n",
    "        {\"id\":3, \"name\":\"Chi\"},\n",
    "        {\"id\":4, \"name\":\"Thor\"},\n",
    "        {\"id\":5, \"name\":\"Clive\"},\n",
    "        {\"id\":6, \"name\":\"Hicks\"},\n",
    "        {\"id\":7, \"name\":\"Devin\"},\n",
    "        {\"id\":8, \"name\":\"Kate\"},\n",
    "        {\"id\":9, \"name\":\"Klein\"}\n",
    "        ]"
   ]
  },
  {
   "cell_type": "code",
   "execution_count": 2,
   "id": "e3574034",
   "metadata": {},
   "outputs": [],
   "source": [
    "# Friendships\n",
    "friendships = [(0,1), (0,2), (1,2), (1,3), (2,3), (3,4),\n",
    "              (4,5), (5,6), (5,7), (6,8), (7,8), (8,9)\n",
    "              ]"
   ]
  },
  {
   "cell_type": "code",
   "execution_count": 3,
   "id": "254c4081",
   "metadata": {},
   "outputs": [
    {
     "name": "stdout",
     "output_type": "stream",
     "text": [
      "{'id': 0, 'name': 'Hero'}\n",
      "{'id': 1, 'name': 'Dunn'}\n",
      "{'id': 2, 'name': 'Sue'}\n",
      "{'id': 3, 'name': 'Chi'}\n",
      "{'id': 4, 'name': 'Thor'}\n",
      "{'id': 5, 'name': 'Clive'}\n",
      "{'id': 6, 'name': 'Hicks'}\n",
      "{'id': 7, 'name': 'Devin'}\n",
      "{'id': 8, 'name': 'Kate'}\n",
      "{'id': 9, 'name': 'Klein'}\n"
     ]
    }
   ],
   "source": [
    "for user in users:\n",
    "    print(user)"
   ]
  },
  {
   "cell_type": "code",
   "execution_count": 4,
   "id": "f7c523e8",
   "metadata": {},
   "outputs": [],
   "source": [
    "for user in users:\n",
    "    user[\"friends\"] = []"
   ]
  },
  {
   "cell_type": "code",
   "execution_count": 5,
   "id": "4bc1d2a1",
   "metadata": {},
   "outputs": [
    {
     "data": {
      "text/plain": [
       "[{'id': 0, 'name': 'Hero', 'friends': []},\n",
       " {'id': 1, 'name': 'Dunn', 'friends': []},\n",
       " {'id': 2, 'name': 'Sue', 'friends': []},\n",
       " {'id': 3, 'name': 'Chi', 'friends': []},\n",
       " {'id': 4, 'name': 'Thor', 'friends': []},\n",
       " {'id': 5, 'name': 'Clive', 'friends': []},\n",
       " {'id': 6, 'name': 'Hicks', 'friends': []},\n",
       " {'id': 7, 'name': 'Devin', 'friends': []},\n",
       " {'id': 8, 'name': 'Kate', 'friends': []},\n",
       " {'id': 9, 'name': 'Klein', 'friends': []}]"
      ]
     },
     "execution_count": 5,
     "metadata": {},
     "output_type": "execute_result"
    }
   ],
   "source": [
    "users"
   ]
  },
  {
   "cell_type": "code",
   "execution_count": 6,
   "id": "6f1d481a",
   "metadata": {},
   "outputs": [],
   "source": [
    "for i,j in friendships:\n",
    "    users[i][\"friends\"].append(users[j])\n",
    "    users[j][\"friends\"].append(users[i])"
   ]
  },
  {
   "cell_type": "code",
   "execution_count": 7,
   "id": "0377c27c",
   "metadata": {},
   "outputs": [],
   "source": [
    "def number_of_friends(user):\n",
    "    \"\"\" friends of each user\"\"\"\n",
    "    return len(user[\"friends\"])"
   ]
  },
  {
   "cell_type": "code",
   "execution_count": 8,
   "id": "02fe2086",
   "metadata": {},
   "outputs": [],
   "source": [
    "total_connections = sum(number_of_friends(user) for user in users)"
   ]
  },
  {
   "cell_type": "code",
   "execution_count": 9,
   "id": "785ee175",
   "metadata": {},
   "outputs": [
    {
     "name": "stdout",
     "output_type": "stream",
     "text": [
      "24\n"
     ]
    }
   ],
   "source": [
    "print(total_connections)"
   ]
  },
  {
   "cell_type": "code",
   "execution_count": 10,
   "id": "ee0c95ce",
   "metadata": {},
   "outputs": [],
   "source": [
    "num_users = len(users)\n",
    "avg_connections = total_connections / num_users"
   ]
  },
  {
   "cell_type": "code",
   "execution_count": 11,
   "id": "b854b296",
   "metadata": {},
   "outputs": [
    {
     "name": "stdout",
     "output_type": "stream",
     "text": [
      "2.4\n"
     ]
    }
   ],
   "source": [
    "print(avg_connections)"
   ]
  },
  {
   "cell_type": "code",
   "execution_count": 12,
   "id": "b2f032b0",
   "metadata": {},
   "outputs": [],
   "source": [
    "def max_friends(users):\n",
    "    return max(len(user[\"friends\"]) for user in users)"
   ]
  },
  {
   "cell_type": "code",
   "execution_count": 13,
   "id": "09404ea6",
   "metadata": {},
   "outputs": [
    {
     "data": {
      "text/plain": [
       "3"
      ]
     },
     "execution_count": 13,
     "metadata": {},
     "output_type": "execute_result"
    }
   ],
   "source": [
    "max_friends(users)"
   ]
  },
  {
   "cell_type": "code",
   "execution_count": 14,
   "id": "e254d875",
   "metadata": {},
   "outputs": [],
   "source": [
    "num_friends_by_id = [(user[\"id\"], number_of_friends(user)) for user in users]"
   ]
  },
  {
   "cell_type": "code",
   "execution_count": 15,
   "id": "cdfe842c",
   "metadata": {},
   "outputs": [
    {
     "data": {
      "text/plain": [
       "[(0, 2),\n",
       " (1, 3),\n",
       " (2, 3),\n",
       " (3, 3),\n",
       " (4, 2),\n",
       " (5, 3),\n",
       " (6, 2),\n",
       " (7, 2),\n",
       " (8, 3),\n",
       " (9, 1)]"
      ]
     },
     "execution_count": 15,
     "metadata": {},
     "output_type": "execute_result"
    }
   ],
   "source": [
    "num_friends_by_id"
   ]
  },
  {
   "cell_type": "code",
   "execution_count": 16,
   "id": "05acd5a3",
   "metadata": {},
   "outputs": [
    {
     "data": {
      "text/plain": [
       "[(1, 3),\n",
       " (2, 3),\n",
       " (3, 3),\n",
       " (5, 3),\n",
       " (8, 3),\n",
       " (0, 2),\n",
       " (4, 2),\n",
       " (6, 2),\n",
       " (7, 2),\n",
       " (9, 1)]"
      ]
     },
     "execution_count": 16,
     "metadata": {},
     "output_type": "execute_result"
    }
   ],
   "source": [
    "sorted(num_friends_by_id,\n",
    "       key=lambda friends:friends[1] ,\n",
    "       reverse=True)"
   ]
  },
  {
   "cell_type": "code",
   "execution_count": 17,
   "id": "2e846577",
   "metadata": {},
   "outputs": [],
   "source": [
    "# Data Scientists You May Know\n",
    "def friends_of_friend_ids_bad(user):\n",
    "    return [foaf[\"id\"]\n",
    "           for friend in user[\"friends\"]\n",
    "           for foaf in friend[\"friends\"]]"
   ]
  },
  {
   "cell_type": "code",
   "execution_count": 18,
   "id": "600699d6",
   "metadata": {},
   "outputs": [
    {
     "data": {
      "text/plain": [
       "[0, 2, 3, 0, 1, 3]"
      ]
     },
     "execution_count": 18,
     "metadata": {},
     "output_type": "execute_result"
    }
   ],
   "source": [
    "friends_of_friend_ids_bad(users[0])"
   ]
  },
  {
   "cell_type": "code",
   "execution_count": 19,
   "id": "1f3c9c86",
   "metadata": {},
   "outputs": [
    {
     "name": "stdout",
     "output_type": "stream",
     "text": [
      "[1, 2]\n",
      "[0, 2, 3]\n",
      "[0, 1, 3]\n"
     ]
    }
   ],
   "source": [
    "print([friend[\"id\"] for friend in users[0][\"friends\"]])\n",
    "print([friend[\"id\"] for friend in users[1][\"friends\"]])\n",
    "print([friend[\"id\"] for friend in users[2][\"friends\"]])"
   ]
  },
  {
   "cell_type": "code",
   "execution_count": 20,
   "id": "2f7c080a",
   "metadata": {},
   "outputs": [],
   "source": [
    "from collections import Counter"
   ]
  },
  {
   "cell_type": "code",
   "execution_count": 21,
   "id": "d0c23055",
   "metadata": {},
   "outputs": [],
   "source": [
    "def not_the_same(user, other_user):\n",
    "    \"\"\"two users are not the same if they have different ids\"\"\"\n",
    "    return user[\"id\"] != other_user[\"id\"]\n",
    "\n",
    "def not_friends(user, other_user):\n",
    "    return all(not_the_same(friend, other_user)\n",
    "              for friend in user[\"friends\"])\n",
    "\n",
    "def friends_of_friend_ids(user):\n",
    "    return Counter(foaf[\"id\"]\n",
    "                  for friend in user[\"friends\"]\n",
    "                  for foaf in friend[\"friends\"]\n",
    "                  if not_the_same(user, foaf)\n",
    "                  and not_friends(user, foaf))\n"
   ]
  },
  {
   "cell_type": "code",
   "execution_count": 22,
   "id": "21699f92",
   "metadata": {},
   "outputs": [
    {
     "name": "stdout",
     "output_type": "stream",
     "text": [
      "Counter({0: 2, 5: 1})\n"
     ]
    }
   ],
   "source": [
    "print(friends_of_friend_ids(users[3]))"
   ]
  },
  {
   "cell_type": "code",
   "execution_count": 23,
   "id": "d84a7a4c",
   "metadata": {},
   "outputs": [],
   "source": [
    "interests = [\n",
    "(0, \"Hadoop\"), (0, \"Big Data\"), (0, \"HBase\"), (0, \"Java\"),\n",
    "(0, \"Spark\"), (0, \"Storm\"), (0, \"Cassandra\"),\n",
    "(1, \"NoSQL\"), (1, \"MongoDB\"), (1, \"Cassandra\"), (1, \"HBase\"),\n",
    "(1, \"Postgres\"), (2, \"Python\"), (2, \"scikit-learn\"), (2, \"scipy\"),\n",
    "(2, \"numpy\"), (2, \"statsmodels\"), (2, \"pandas\"), (3, \"R\"), (3, \"Python\"),\n",
    "(3, \"statistics\"), (3, \"regression\"), (3, \"probability\"),\n",
    "(4, \"machine learning\"), (4, \"regression\"), (4, \"decision trees\"),\n",
    "(4, \"libsvm\"), (5, \"Python\"), (5, \"R\"), (5, \"Java\"), (5, \"C++\"),\n",
    "(5, \"Haskell\"), (5, \"programming languages\"), (6, \"statistics\"),\n",
    "(6, \"probability\"), (6, \"mathematics\"), (6, \"theory\"),\n",
    "(7, \"machine learning\"), (7, \"scikit-learn\"), (7, \"Mahout\"),\n",
    "(7, \"neural networks\"), (8, \"neural networks\"), (8, \"deep learning\"),\n",
    "(8, \"Big Data\"), (8, \"artificial intelligence\"), (9, \"Hadoop\"),\n",
    "(9, \"Java\"), (9, \"MapReduce\"), (9, \"Big Data\")\n",
    "]"
   ]
  },
  {
   "cell_type": "code",
   "execution_count": 63,
   "id": "9ab4c489",
   "metadata": {},
   "outputs": [],
   "source": [
    "def data_scientist_who_like(target_interest):\n",
    "    return [user_id for user_id,user_interest in interests\n",
    "           if user_interest==target_interest]"
   ]
  },
  {
   "cell_type": "code",
   "execution_count": 64,
   "id": "8bc639fa",
   "metadata": {},
   "outputs": [
    {
     "data": {
      "text/plain": [
       "[4, 7]"
      ]
     },
     "execution_count": 64,
     "metadata": {},
     "output_type": "execute_result"
    }
   ],
   "source": [
    "data_scientist_who_like(\"machine learning\")"
   ]
  },
  {
   "cell_type": "code",
   "execution_count": 65,
   "id": "e14a149c",
   "metadata": {},
   "outputs": [],
   "source": [
    "user_ids_by_interest = {user_id:[] for user_id,interest in interests}"
   ]
  },
  {
   "cell_type": "code",
   "execution_count": 66,
   "id": "54c589fd",
   "metadata": {},
   "outputs": [
    {
     "data": {
      "text/plain": [
       "{0: [], 1: [], 2: [], 3: [], 4: [], 5: [], 6: [], 7: [], 8: [], 9: []}"
      ]
     },
     "execution_count": 66,
     "metadata": {},
     "output_type": "execute_result"
    }
   ],
   "source": [
    "user_ids_by_interest"
   ]
  },
  {
   "cell_type": "code",
   "execution_count": 67,
   "id": "acc2dda6",
   "metadata": {},
   "outputs": [],
   "source": [
    "for user_id,user_interest in interests:\n",
    "    user_ids_by_interest[user_id].append(user_interest)"
   ]
  },
  {
   "cell_type": "code",
   "execution_count": 68,
   "id": "9b8f30b6",
   "metadata": {},
   "outputs": [
    {
     "data": {
      "text/plain": [
       "{0: ['Hadoop', 'Big Data', 'HBase', 'Java', 'Spark', 'Storm', 'Cassandra'],\n",
       " 1: ['NoSQL', 'MongoDB', 'Cassandra', 'HBase', 'Postgres'],\n",
       " 2: ['Python', 'scikit-learn', 'scipy', 'numpy', 'statsmodels', 'pandas'],\n",
       " 3: ['R', 'Python', 'statistics', 'regression', 'probability'],\n",
       " 4: ['machine learning', 'regression', 'decision trees', 'libsvm'],\n",
       " 5: ['Python', 'R', 'Java', 'C++', 'Haskell', 'programming languages'],\n",
       " 6: ['statistics', 'probability', 'mathematics', 'theory'],\n",
       " 7: ['machine learning', 'scikit-learn', 'Mahout', 'neural networks'],\n",
       " 8: ['neural networks',\n",
       "  'deep learning',\n",
       "  'Big Data',\n",
       "  'artificial intelligence'],\n",
       " 9: ['Hadoop', 'Java', 'MapReduce', 'Big Data']}"
      ]
     },
     "execution_count": 68,
     "metadata": {},
     "output_type": "execute_result"
    }
   ],
   "source": [
    "user_ids_by_interest"
   ]
  },
  {
   "cell_type": "code",
   "execution_count": 69,
   "id": "4359cbc2",
   "metadata": {},
   "outputs": [],
   "source": [
    "interest_by_user_id = {interest:[] for user_id,interest in interests}"
   ]
  },
  {
   "cell_type": "code",
   "execution_count": 70,
   "id": "e1d67b20",
   "metadata": {},
   "outputs": [
    {
     "data": {
      "text/plain": [
       "{'Hadoop': [],\n",
       " 'Big Data': [],\n",
       " 'HBase': [],\n",
       " 'Java': [],\n",
       " 'Spark': [],\n",
       " 'Storm': [],\n",
       " 'Cassandra': [],\n",
       " 'NoSQL': [],\n",
       " 'MongoDB': [],\n",
       " 'Postgres': [],\n",
       " 'Python': [],\n",
       " 'scikit-learn': [],\n",
       " 'scipy': [],\n",
       " 'numpy': [],\n",
       " 'statsmodels': [],\n",
       " 'pandas': [],\n",
       " 'R': [],\n",
       " 'statistics': [],\n",
       " 'regression': [],\n",
       " 'probability': [],\n",
       " 'machine learning': [],\n",
       " 'decision trees': [],\n",
       " 'libsvm': [],\n",
       " 'C++': [],\n",
       " 'Haskell': [],\n",
       " 'programming languages': [],\n",
       " 'mathematics': [],\n",
       " 'theory': [],\n",
       " 'Mahout': [],\n",
       " 'neural networks': [],\n",
       " 'deep learning': [],\n",
       " 'artificial intelligence': [],\n",
       " 'MapReduce': []}"
      ]
     },
     "execution_count": 70,
     "metadata": {},
     "output_type": "execute_result"
    }
   ],
   "source": [
    "interest_by_user_id"
   ]
  },
  {
   "cell_type": "code",
   "execution_count": 71,
   "id": "02f0b990",
   "metadata": {},
   "outputs": [],
   "source": [
    "for user_id,interest in interests:\n",
    "    interest_by_user_id[interest].append(user_id)"
   ]
  },
  {
   "cell_type": "code",
   "execution_count": 72,
   "id": "4abc0618",
   "metadata": {},
   "outputs": [
    {
     "data": {
      "text/plain": [
       "{'Hadoop': [0, 9],\n",
       " 'Big Data': [0, 8, 9],\n",
       " 'HBase': [0, 1],\n",
       " 'Java': [0, 5, 9],\n",
       " 'Spark': [0],\n",
       " 'Storm': [0],\n",
       " 'Cassandra': [0, 1],\n",
       " 'NoSQL': [1],\n",
       " 'MongoDB': [1],\n",
       " 'Postgres': [1],\n",
       " 'Python': [2, 3, 5],\n",
       " 'scikit-learn': [2, 7],\n",
       " 'scipy': [2],\n",
       " 'numpy': [2],\n",
       " 'statsmodels': [2],\n",
       " 'pandas': [2],\n",
       " 'R': [3, 5],\n",
       " 'statistics': [3, 6],\n",
       " 'regression': [3, 4],\n",
       " 'probability': [3, 6],\n",
       " 'machine learning': [4, 7],\n",
       " 'decision trees': [4],\n",
       " 'libsvm': [4],\n",
       " 'C++': [5],\n",
       " 'Haskell': [5],\n",
       " 'programming languages': [5],\n",
       " 'mathematics': [6],\n",
       " 'theory': [6],\n",
       " 'Mahout': [7],\n",
       " 'neural networks': [7, 8],\n",
       " 'deep learning': [8],\n",
       " 'artificial intelligence': [8],\n",
       " 'MapReduce': [9]}"
      ]
     },
     "execution_count": 72,
     "metadata": {},
     "output_type": "execute_result"
    }
   ],
   "source": [
    "interest_by_user_id"
   ]
  },
  {
   "cell_type": "code",
   "execution_count": 78,
   "id": "41412acd",
   "metadata": {},
   "outputs": [
    {
     "name": "stdout",
     "output_type": "stream",
     "text": [
      "Counter({1: 2, 2: 2, 3: 2, 4: 2, 54: 2, 7: 1, 6: 1, 8: 1, 90: 1, 45: 1})\n"
     ]
    }
   ],
   "source": []
  },
  {
   "cell_type": "code",
   "execution_count": null,
   "id": "839abf26",
   "metadata": {},
   "outputs": [],
   "source": []
  },
  {
   "cell_type": "code",
   "execution_count": null,
   "id": "e6b49fda",
   "metadata": {},
   "outputs": [],
   "source": []
  },
  {
   "cell_type": "code",
   "execution_count": null,
   "id": "0fe98228",
   "metadata": {},
   "outputs": [],
   "source": []
  }
 ],
 "metadata": {
  "kernelspec": {
   "display_name": "Python 3 (ipykernel)",
   "language": "python",
   "name": "python3"
  },
  "language_info": {
   "codemirror_mode": {
    "name": "ipython",
    "version": 3
   },
   "file_extension": ".py",
   "mimetype": "text/x-python",
   "name": "python",
   "nbconvert_exporter": "python",
   "pygments_lexer": "ipython3",
   "version": "3.9.12"
  }
 },
 "nbformat": 4,
 "nbformat_minor": 5
}
