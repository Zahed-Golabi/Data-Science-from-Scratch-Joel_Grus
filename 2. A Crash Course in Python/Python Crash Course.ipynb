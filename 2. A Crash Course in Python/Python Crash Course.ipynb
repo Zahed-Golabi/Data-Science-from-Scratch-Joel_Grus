{
 "cells": [
  {
   "cell_type": "markdown",
   "id": "65a97590",
   "metadata": {},
   "source": [
    "# Chapter 2. Python Crash Course"
   ]
  },
  {
   "cell_type": "markdown",
   "id": "ac4e7644",
   "metadata": {},
   "source": [
    "---"
   ]
  },
  {
   "cell_type": "code",
   "execution_count": 43,
   "id": "fd7c824d",
   "metadata": {},
   "outputs": [],
   "source": [
    "import this"
   ]
  },
  {
   "cell_type": "markdown",
   "id": "8ee62cdd",
   "metadata": {},
   "source": [
    "### Whitespace Formatting"
   ]
  },
  {
   "cell_type": "code",
   "execution_count": 44,
   "id": "697e4bd6",
   "metadata": {},
   "outputs": [
    {
     "name": "stdout",
     "output_type": "stream",
     "text": [
      "1\t1\t2\t2\t3\t3\t4\t4\t5\t5\t6\t2\t1\t3\t2\t4\t3\t5\t4\t6\t5\t7\t3\t1\t4\t2\t5\t3\t6\t4\t7\t5\t8\t4\t1\t5\t2\t6\t3\t7\t4\t8\t5\t9\t5\t1\t6\t2\t7\t3\t8\t4\t9\t5\t10\tdone looping\n"
     ]
    }
   ],
   "source": [
    "for i in [1, 2, 3, 4, 5]:\n",
    "    print(i, end=\"\\t\")\n",
    "    for j in [1, 2, 3, 4, 5]:\n",
    "        print(j, end=\"\\t\")\n",
    "        print(i+j, end=\"\\t\")\n",
    "print(\"done looping\")"
   ]
  },
  {
   "cell_type": "code",
   "execution_count": null,
   "id": "169cb691",
   "metadata": {},
   "outputs": [],
   "source": []
  },
  {
   "cell_type": "code",
   "execution_count": 45,
   "id": "f9bf5964",
   "metadata": {},
   "outputs": [],
   "source": [
    "long_winded_computation = (1 + 2 + 3 + 4 + 5 + 6 + 7 + 8 + 9\n",
    "                          + 10 + 11 + 12 + 13,)"
   ]
  },
  {
   "cell_type": "markdown",
   "id": "72baef14",
   "metadata": {},
   "source": [
    "### Making code easier to read"
   ]
  },
  {
   "cell_type": "code",
   "execution_count": 46,
   "id": "05182ddd",
   "metadata": {},
   "outputs": [],
   "source": [
    "list_of_lists = [[1, 2, 3], [4, 5, 6], [7, 8, 9]]"
   ]
  },
  {
   "cell_type": "code",
   "execution_count": 47,
   "id": "b75a3ebf",
   "metadata": {},
   "outputs": [],
   "source": [
    "list_of_lists_better = [[1, 2, 3],\n",
    "                        [4, 5, 6],\n",
    "                        [7, 8, 9]]"
   ]
  },
  {
   "cell_type": "markdown",
   "id": "02d5f3cb",
   "metadata": {},
   "source": [
    "### Modules"
   ]
  },
  {
   "cell_type": "code",
   "execution_count": 48,
   "id": "ad06aa0b",
   "metadata": {},
   "outputs": [],
   "source": [
    "import re\n",
    "my_regex = re.compile(\"[0-9]+\", re.I)"
   ]
  },
  {
   "cell_type": "code",
   "execution_count": 49,
   "id": "debe8cde",
   "metadata": {},
   "outputs": [],
   "source": [
    "import re as regex     # alias"
   ]
  },
  {
   "cell_type": "code",
   "execution_count": 50,
   "id": "6a30ba99",
   "metadata": {},
   "outputs": [],
   "source": [
    "import matplotlib.pyplot as plt    # alias"
   ]
  },
  {
   "cell_type": "code",
   "execution_count": 51,
   "id": "a565e738",
   "metadata": {},
   "outputs": [],
   "source": [
    "from collections import defaultdict, Counter"
   ]
  },
  {
   "cell_type": "code",
   "execution_count": 52,
   "id": "109da646",
   "metadata": {},
   "outputs": [],
   "source": [
    "lookup = defaultdict(int)\n",
    "my_counter = Counter()"
   ]
  },
  {
   "cell_type": "code",
   "execution_count": 53,
   "id": "246a372d",
   "metadata": {},
   "outputs": [
    {
     "data": {
      "text/plain": [
       "Counter({1: 1, 2: 1, 3: 2, 4: 2, 5: 1})"
      ]
     },
     "execution_count": 53,
     "metadata": {},
     "output_type": "execute_result"
    }
   ],
   "source": [
    "Counter([1, 2, 3, 4, 4, 3, 5])"
   ]
  },
  {
   "cell_type": "markdown",
   "id": "d960b829",
   "metadata": {},
   "source": [
    "### Bad Use of *"
   ]
  },
  {
   "cell_type": "code",
   "execution_count": 60,
   "id": "c46a7989",
   "metadata": {},
   "outputs": [
    {
     "name": "stdout",
     "output_type": "stream",
     "text": [
      "<function match at 0x000001DC7D400790>\n"
     ]
    }
   ],
   "source": [
    "match = 10\n",
    "from re import *  # re also has match \n",
    "print(match)"
   ]
  },
  {
   "cell_type": "code",
   "execution_count": 55,
   "id": "b1c67380",
   "metadata": {},
   "outputs": [
    {
     "name": "stdout",
     "output_type": "stream",
     "text": [
      "10\n"
     ]
    }
   ],
   "source": [
    "import re\n",
    "\n",
    "match = 10\n",
    "print(match)"
   ]
  },
  {
   "cell_type": "markdown",
   "id": "bdb308b1",
   "metadata": {},
   "source": [
    "### Arithmetic"
   ]
  },
  {
   "cell_type": "code",
   "execution_count": 56,
   "id": "c753b4b0",
   "metadata": {},
   "outputs": [
    {
     "data": {
      "text/plain": [
       "2.5"
      ]
     },
     "execution_count": 56,
     "metadata": {},
     "output_type": "execute_result"
    }
   ],
   "source": [
    "5/2    # division"
   ]
  },
  {
   "cell_type": "code",
   "execution_count": 57,
   "id": "8ce5ea59",
   "metadata": {},
   "outputs": [
    {
     "data": {
      "text/plain": [
       "2"
      ]
     },
     "execution_count": 57,
     "metadata": {},
     "output_type": "execute_result"
    }
   ],
   "source": [
    "5//2   # integer division"
   ]
  },
  {
   "cell_type": "code",
   "execution_count": 58,
   "id": "aaeef775",
   "metadata": {},
   "outputs": [
    {
     "data": {
      "text/plain": [
       "1"
      ]
     },
     "execution_count": 58,
     "metadata": {},
     "output_type": "execute_result"
    }
   ],
   "source": [
    "5%2    # remainder division"
   ]
  },
  {
   "cell_type": "markdown",
   "id": "51b1127e",
   "metadata": {},
   "source": [
    "### Functions"
   ]
  },
  {
   "cell_type": "code",
   "execution_count": 63,
   "id": "fb29613f",
   "metadata": {},
   "outputs": [],
   "source": [
    "def double(x):\n",
    "    \"\"\"this is where you put an optional docstring\n",
    "    that explains what the function does.\n",
    "    for example, this function multiplies its input by 2\n",
    "    \"\"\"\n",
    "    return x*2"
   ]
  },
  {
   "cell_type": "code",
   "execution_count": 64,
   "id": "371ce045",
   "metadata": {},
   "outputs": [
    {
     "name": "stdout",
     "output_type": "stream",
     "text": [
      "Help on function double in module __main__:\n",
      "\n",
      "double(x)\n",
      "    this is where you put an optional docstring\n",
      "    that explains what the function does.\n",
      "    for example, this function multiplies its input by 2\n",
      "\n"
     ]
    }
   ],
   "source": [
    "help(double)"
   ]
  },
  {
   "cell_type": "code",
   "execution_count": 71,
   "id": "006b1702",
   "metadata": {},
   "outputs": [
    {
     "name": "stdout",
     "output_type": "stream",
     "text": [
      "9\n"
     ]
    }
   ],
   "source": [
    "another_double = lambda x: x**2\n",
    "\n",
    "variable = 3\n",
    "print(another_double(variable))"
   ]
  },
  {
   "cell_type": "code",
   "execution_count": 72,
   "id": "10804aa2",
   "metadata": {},
   "outputs": [],
   "source": [
    "def my_print(message=\"my default message\"):\n",
    "    print(message)"
   ]
  },
  {
   "cell_type": "code",
   "execution_count": 73,
   "id": "e9d227a2",
   "metadata": {},
   "outputs": [
    {
     "name": "stdout",
     "output_type": "stream",
     "text": [
      "hello\n",
      "my default message\n"
     ]
    }
   ],
   "source": [
    "my_print(\"hello\")\n",
    "my_print()"
   ]
  },
  {
   "cell_type": "code",
   "execution_count": 76,
   "id": "36bd3c42",
   "metadata": {},
   "outputs": [],
   "source": [
    "def subtract(a=0, b=0):\n",
    "    return a-b"
   ]
  },
  {
   "cell_type": "code",
   "execution_count": 78,
   "id": "fb957388",
   "metadata": {},
   "outputs": [
    {
     "name": "stdout",
     "output_type": "stream",
     "text": [
      "5\n",
      "-5\n",
      "5\n",
      "-5\n"
     ]
    }
   ],
   "source": [
    "print(subtract(10,5))\n",
    "print(subtract(0,5))\n",
    "print(subtract(5))\n",
    "print(subtract(b=5))"
   ]
  },
  {
   "cell_type": "markdown",
   "id": "2cd7208c",
   "metadata": {},
   "source": [
    "### Strings"
   ]
  },
  {
   "cell_type": "code",
   "execution_count": 79,
   "id": "cb441390",
   "metadata": {},
   "outputs": [],
   "source": [
    "single_quote_string = 'data science'\n",
    "double_quotez_string = \"data science\""
   ]
  },
  {
   "cell_type": "code",
   "execution_count": 80,
   "id": "502256b2",
   "metadata": {},
   "outputs": [
    {
     "data": {
      "text/plain": [
       "'\\\\t'"
      ]
     },
     "execution_count": 80,
     "metadata": {},
     "output_type": "execute_result"
    }
   ],
   "source": [
    "not_tab_string = r\"\\t\"\n",
    "not_tab_string"
   ]
  },
  {
   "cell_type": "code",
   "execution_count": 81,
   "id": "246bd1a1",
   "metadata": {},
   "outputs": [
    {
     "data": {
      "text/plain": [
       "2"
      ]
     },
     "execution_count": 81,
     "metadata": {},
     "output_type": "execute_result"
    }
   ],
   "source": [
    "len(not_tab_string)"
   ]
  },
  {
   "cell_type": "markdown",
   "id": "f6a2cf75",
   "metadata": {},
   "source": [
    "### Exceptions"
   ]
  },
  {
   "cell_type": "code",
   "execution_count": 82,
   "id": "66146f36",
   "metadata": {},
   "outputs": [
    {
     "ename": "ZeroDivisionError",
     "evalue": "division by zero",
     "output_type": "error",
     "traceback": [
      "\u001b[1;31m---------------------------------------------------------------------------\u001b[0m",
      "\u001b[1;31mZeroDivisionError\u001b[0m                         Traceback (most recent call last)",
      "Input \u001b[1;32mIn [82]\u001b[0m, in \u001b[0;36m<cell line: 1>\u001b[1;34m()\u001b[0m\n\u001b[1;32m----> 1\u001b[0m \u001b[38;5;28mprint\u001b[39m(\u001b[38;5;241;43m0\u001b[39;49m\u001b[38;5;241;43m/\u001b[39;49m\u001b[38;5;241;43m0\u001b[39;49m)\n",
      "\u001b[1;31mZeroDivisionError\u001b[0m: division by zero"
     ]
    }
   ],
   "source": [
    "print(0/0)"
   ]
  },
  {
   "cell_type": "code",
   "execution_count": 87,
   "id": "ffeb0821",
   "metadata": {},
   "outputs": [
    {
     "name": "stdout",
     "output_type": "stream",
     "text": [
      "can not divide by zero, <class 'ZeroDivisionError'>\n",
      "in each cases run\n"
     ]
    }
   ],
   "source": [
    "try:\n",
    "    print(0/0)\n",
    "except ZeroDivisionError:\n",
    "    print(f\"can not divide by zero, {ZeroDivisionError}\")\n",
    "    \n",
    "finally:\n",
    "    print(\"in each cases run\")"
   ]
  },
  {
   "cell_type": "markdown",
   "id": "111f0975",
   "metadata": {},
   "source": [
    "### Lists"
   ]
  },
  {
   "cell_type": "code",
   "execution_count": 88,
   "id": "54d8e1f5",
   "metadata": {},
   "outputs": [],
   "source": [
    "integer_list = [1, 2, 3, 4, 5]\n",
    "heterogeneous_list = [\"string\", 0.1, True]\n",
    "list_of_lists = [integer_list, heterogeneous_list, []]"
   ]
  },
  {
   "cell_type": "code",
   "execution_count": 96,
   "id": "f989a6f3",
   "metadata": {},
   "outputs": [
    {
     "name": "stdout",
     "output_type": "stream",
     "text": [
      "length of integer_list is: 5, sum oflist is: 15\n"
     ]
    }
   ],
   "source": [
    "list_length = len(integer_list)\n",
    "list_sum = sum(integer_list)\n",
    "print(f\"length of integer_list is: {list_length}, sum of\\\n",
    "list is: {list_sum}\")"
   ]
  },
  {
   "cell_type": "code",
   "execution_count": 99,
   "id": "7f102611",
   "metadata": {},
   "outputs": [
    {
     "data": {
      "text/plain": [
       "[0, 1, 2, 3, 4, 5, 6, 7]"
      ]
     },
     "execution_count": 99,
     "metadata": {},
     "output_type": "execute_result"
    }
   ],
   "source": [
    "x = list(range(8))\n",
    "x"
   ]
  },
  {
   "cell_type": "code",
   "execution_count": 100,
   "id": "2e710024",
   "metadata": {},
   "outputs": [],
   "source": [
    "zero = x[0]\n",
    "one = x[1]\n",
    "five = x[5]\n",
    "last = x[-1]"
   ]
  },
  {
   "cell_type": "code",
   "execution_count": 101,
   "id": "4e3b86b6",
   "metadata": {},
   "outputs": [],
   "source": [
    "x[0] = -1  # now x[0] is -1, lists are mutable"
   ]
  },
  {
   "cell_type": "code",
   "execution_count": 102,
   "id": "508d5c2e",
   "metadata": {},
   "outputs": [
    {
     "data": {
      "text/plain": [
       "[5, 6, 7]"
      ]
     },
     "execution_count": 102,
     "metadata": {},
     "output_type": "execute_result"
    }
   ],
   "source": [
    "first_two = x[0:2]\n",
    "last_three = x[-3:]\n",
    "last_three"
   ]
  },
  {
   "cell_type": "code",
   "execution_count": 104,
   "id": "3f616ab5",
   "metadata": {},
   "outputs": [],
   "source": [
    "even_index = x[0::2]"
   ]
  },
  {
   "cell_type": "code",
   "execution_count": 105,
   "id": "384d4ffa",
   "metadata": {},
   "outputs": [
    {
     "data": {
      "text/plain": [
       "[-1, 2, 4, 6]"
      ]
     },
     "execution_count": 105,
     "metadata": {},
     "output_type": "execute_result"
    }
   ],
   "source": [
    "even_index"
   ]
  },
  {
   "cell_type": "code",
   "execution_count": 106,
   "id": "f39be002",
   "metadata": {},
   "outputs": [],
   "source": [
    "odd_index = x[1::2]"
   ]
  },
  {
   "cell_type": "code",
   "execution_count": 107,
   "id": "fb04b275",
   "metadata": {},
   "outputs": [
    {
     "data": {
      "text/plain": [
       "[1, 3, 5, 7]"
      ]
     },
     "execution_count": 107,
     "metadata": {},
     "output_type": "execute_result"
    }
   ],
   "source": [
    "odd_index"
   ]
  },
  {
   "cell_type": "code",
   "execution_count": 108,
   "id": "3be467b1",
   "metadata": {},
   "outputs": [
    {
     "data": {
      "text/plain": [
       "True"
      ]
     },
     "execution_count": 108,
     "metadata": {},
     "output_type": "execute_result"
    }
   ],
   "source": [
    "-1 in [-1, 2, 3]"
   ]
  },
  {
   "cell_type": "code",
   "execution_count": 109,
   "id": "d5968553",
   "metadata": {},
   "outputs": [
    {
     "data": {
      "text/plain": [
       "False"
      ]
     },
     "execution_count": 109,
     "metadata": {},
     "output_type": "execute_result"
    }
   ],
   "source": [
    "-1 in [1, 3, 5]"
   ]
  },
  {
   "cell_type": "code",
   "execution_count": 110,
   "id": "bc2658df",
   "metadata": {},
   "outputs": [],
   "source": [
    "x = [1, 2, 3]"
   ]
  },
  {
   "cell_type": "code",
   "execution_count": 111,
   "id": "be0b7817",
   "metadata": {},
   "outputs": [],
   "source": [
    "copy_x = x[:]"
   ]
  },
  {
   "cell_type": "code",
   "execution_count": 122,
   "id": "5efb62a2",
   "metadata": {},
   "outputs": [],
   "source": [
    "reference_x = x"
   ]
  },
  {
   "cell_type": "code",
   "execution_count": 123,
   "id": "273dabdb",
   "metadata": {},
   "outputs": [],
   "source": [
    "reference_x[0] = 30"
   ]
  },
  {
   "cell_type": "code",
   "execution_count": 124,
   "id": "d6a023be",
   "metadata": {},
   "outputs": [
    {
     "data": {
      "text/plain": [
       "30"
      ]
     },
     "execution_count": 124,
     "metadata": {},
     "output_type": "execute_result"
    }
   ],
   "source": [
    "x[0]"
   ]
  },
  {
   "cell_type": "code",
   "execution_count": 112,
   "id": "d8806906",
   "metadata": {},
   "outputs": [
    {
     "data": {
      "text/plain": [
       "[1, 2, 3]"
      ]
     },
     "execution_count": 112,
     "metadata": {},
     "output_type": "execute_result"
    }
   ],
   "source": [
    "copy_x"
   ]
  },
  {
   "cell_type": "code",
   "execution_count": 113,
   "id": "1725f518",
   "metadata": {},
   "outputs": [],
   "source": [
    "copy_x[0] = 20"
   ]
  },
  {
   "cell_type": "code",
   "execution_count": 114,
   "id": "13eec59a",
   "metadata": {},
   "outputs": [
    {
     "data": {
      "text/plain": [
       "[20, 2, 3]"
      ]
     },
     "execution_count": 114,
     "metadata": {},
     "output_type": "execute_result"
    }
   ],
   "source": [
    "copy_x"
   ]
  },
  {
   "cell_type": "code",
   "execution_count": 115,
   "id": "7d50481b",
   "metadata": {},
   "outputs": [
    {
     "data": {
      "text/plain": [
       "[1, 2, 3]"
      ]
     },
     "execution_count": 115,
     "metadata": {},
     "output_type": "execute_result"
    }
   ],
   "source": [
    "x"
   ]
  },
  {
   "cell_type": "code",
   "execution_count": 116,
   "id": "ed4ed8f8",
   "metadata": {},
   "outputs": [],
   "source": [
    "p = [9, 8, 7, 6]"
   ]
  },
  {
   "cell_type": "code",
   "execution_count": 117,
   "id": "3c23f8e2",
   "metadata": {},
   "outputs": [],
   "source": [
    "p.extend([4, 5, 6, 7])"
   ]
  },
  {
   "cell_type": "code",
   "execution_count": 118,
   "id": "8f62462b",
   "metadata": {},
   "outputs": [
    {
     "data": {
      "text/plain": [
       "[9, 8, 7, 6, 4, 5, 6, 7]"
      ]
     },
     "execution_count": 118,
     "metadata": {},
     "output_type": "execute_result"
    }
   ],
   "source": [
    "p"
   ]
  },
  {
   "cell_type": "code",
   "execution_count": 119,
   "id": "7be9fd12",
   "metadata": {},
   "outputs": [],
   "source": [
    "k = [4, 5, 6, 2]\n",
    "l = k + [3, 9]"
   ]
  },
  {
   "cell_type": "code",
   "execution_count": 120,
   "id": "f68ebaea",
   "metadata": {},
   "outputs": [
    {
     "data": {
      "text/plain": [
       "[4, 5, 6, 2, 3, 9]"
      ]
     },
     "execution_count": 120,
     "metadata": {},
     "output_type": "execute_result"
    }
   ],
   "source": [
    "l"
   ]
  },
  {
   "cell_type": "code",
   "execution_count": 121,
   "id": "52555c05",
   "metadata": {},
   "outputs": [
    {
     "data": {
      "text/plain": [
       "[4, 5, 6, 2]"
      ]
     },
     "execution_count": 121,
     "metadata": {},
     "output_type": "execute_result"
    }
   ],
   "source": [
    "k"
   ]
  },
  {
   "cell_type": "code",
   "execution_count": 126,
   "id": "a9dec640",
   "metadata": {},
   "outputs": [
    {
     "name": "stdout",
     "output_type": "stream",
     "text": [
      "x is: 45, y is: 54\n"
     ]
    }
   ],
   "source": [
    "# list unpacking\n",
    "x, y = [45, 54]\n",
    "print(f\"x is: {x}, y is: {y}\")"
   ]
  },
  {
   "cell_type": "code",
   "execution_count": 130,
   "id": "b19c0667",
   "metadata": {},
   "outputs": [
    {
     "data": {
      "text/plain": [
       "34"
      ]
     },
     "execution_count": 130,
     "metadata": {},
     "output_type": "execute_result"
    }
   ],
   "source": [
    "_, u = [34, 14]\n",
    "u\n",
    "_"
   ]
  },
  {
   "cell_type": "markdown",
   "id": "5e626efc",
   "metadata": {},
   "source": [
    "### Tuples"
   ]
  }
 ],
 "metadata": {
  "kernelspec": {
   "display_name": "Python 3 (ipykernel)",
   "language": "python",
   "name": "python3"
  },
  "language_info": {
   "codemirror_mode": {
    "name": "ipython",
    "version": 3
   },
   "file_extension": ".py",
   "mimetype": "text/x-python",
   "name": "python",
   "nbconvert_exporter": "python",
   "pygments_lexer": "ipython3",
   "version": "3.9.12"
  }
 },
 "nbformat": 4,
 "nbformat_minor": 5
}
