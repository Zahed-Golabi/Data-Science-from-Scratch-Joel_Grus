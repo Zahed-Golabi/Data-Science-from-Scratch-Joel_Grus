{
 "cells": [
  {
   "cell_type": "markdown",
   "id": "65a97590",
   "metadata": {},
   "source": [
    "# Chapter 2. Python Crash Course"
   ]
  },
  {
   "cell_type": "markdown",
   "id": "ac4e7644",
   "metadata": {},
   "source": [
    "---"
   ]
  },
  {
   "cell_type": "code",
   "execution_count": 1,
   "id": "fd7c824d",
   "metadata": {},
   "outputs": [
    {
     "name": "stdout",
     "output_type": "stream",
     "text": [
      "The Zen of Python, by Tim Peters\n",
      "\n",
      "Beautiful is better than ugly.\n",
      "Explicit is better than implicit.\n",
      "Simple is better than complex.\n",
      "Complex is better than complicated.\n",
      "Flat is better than nested.\n",
      "Sparse is better than dense.\n",
      "Readability counts.\n",
      "Special cases aren't special enough to break the rules.\n",
      "Although practicality beats purity.\n",
      "Errors should never pass silently.\n",
      "Unless explicitly silenced.\n",
      "In the face of ambiguity, refuse the temptation to guess.\n",
      "There should be one-- and preferably only one --obvious way to do it.\n",
      "Although that way may not be obvious at first unless you're Dutch.\n",
      "Now is better than never.\n",
      "Although never is often better than *right* now.\n",
      "If the implementation is hard to explain, it's a bad idea.\n",
      "If the implementation is easy to explain, it may be a good idea.\n",
      "Namespaces are one honking great idea -- let's do more of those!\n"
     ]
    }
   ],
   "source": [
    "import this"
   ]
  },
  {
   "cell_type": "markdown",
   "id": "8ee62cdd",
   "metadata": {},
   "source": [
    "### Whitespace Formatting"
   ]
  },
  {
   "cell_type": "code",
   "execution_count": 2,
   "id": "697e4bd6",
   "metadata": {},
   "outputs": [
    {
     "name": "stdout",
     "output_type": "stream",
     "text": [
      "1\t1\t2\t2\t3\t3\t4\t4\t5\t5\t6\t2\t1\t3\t2\t4\t3\t5\t4\t6\t5\t7\t3\t1\t4\t2\t5\t3\t6\t4\t7\t5\t8\t4\t1\t5\t2\t6\t3\t7\t4\t8\t5\t9\t5\t1\t6\t2\t7\t3\t8\t4\t9\t5\t10\tdone looping\n"
     ]
    }
   ],
   "source": [
    "for i in [1, 2, 3, 4, 5]:\n",
    "    print(i, end=\"\\t\")\n",
    "    for j in [1, 2, 3, 4, 5]:\n",
    "        print(j, end=\"\\t\")\n",
    "        print(i+j, end=\"\\t\")\n",
    "print(\"done looping\")"
   ]
  },
  {
   "cell_type": "code",
   "execution_count": null,
   "id": "169cb691",
   "metadata": {},
   "outputs": [],
   "source": []
  },
  {
   "cell_type": "code",
   "execution_count": 3,
   "id": "f9bf5964",
   "metadata": {},
   "outputs": [],
   "source": [
    "long_winded_computation = (1 + 2 + 3 + 4 + 5 + 6 + 7 + 8 + 9\n",
    "                          + 10 + 11 + 12 + 13,)"
   ]
  },
  {
   "cell_type": "markdown",
   "id": "72baef14",
   "metadata": {},
   "source": [
    "### Making code easier to read"
   ]
  },
  {
   "cell_type": "code",
   "execution_count": 4,
   "id": "05182ddd",
   "metadata": {},
   "outputs": [],
   "source": [
    "list_of_lists = [[1, 2, 3], [4, 5, 6], [7, 8, 9]]"
   ]
  },
  {
   "cell_type": "code",
   "execution_count": 5,
   "id": "b75a3ebf",
   "metadata": {},
   "outputs": [],
   "source": [
    "list_of_lists_better = [[1, 2, 3],\n",
    "                        [4, 5, 6],\n",
    "                        [7, 8, 9]]"
   ]
  },
  {
   "cell_type": "markdown",
   "id": "02d5f3cb",
   "metadata": {},
   "source": [
    "### Modules"
   ]
  },
  {
   "cell_type": "code",
   "execution_count": 6,
   "id": "ad06aa0b",
   "metadata": {},
   "outputs": [],
   "source": [
    "import re\n",
    "my_regex = re.compile(\"[0-9]+\", re.I)"
   ]
  },
  {
   "cell_type": "code",
   "execution_count": 7,
   "id": "debe8cde",
   "metadata": {},
   "outputs": [],
   "source": [
    "import re as regex     # alias"
   ]
  },
  {
   "cell_type": "code",
   "execution_count": 8,
   "id": "6a30ba99",
   "metadata": {},
   "outputs": [],
   "source": [
    "import matplotlib.pyplot as plt    # alias"
   ]
  },
  {
   "cell_type": "code",
   "execution_count": 9,
   "id": "a565e738",
   "metadata": {},
   "outputs": [],
   "source": [
    "from collections import defaultdict, Counter"
   ]
  },
  {
   "cell_type": "code",
   "execution_count": 10,
   "id": "109da646",
   "metadata": {},
   "outputs": [],
   "source": [
    "lookup = defaultdict(int)\n",
    "my_counter = Counter()"
   ]
  },
  {
   "cell_type": "code",
   "execution_count": 11,
   "id": "246a372d",
   "metadata": {},
   "outputs": [
    {
     "data": {
      "text/plain": [
       "Counter({1: 1, 2: 1, 3: 2, 4: 2, 5: 1})"
      ]
     },
     "execution_count": 11,
     "metadata": {},
     "output_type": "execute_result"
    }
   ],
   "source": [
    "Counter([1, 2, 3, 4, 4, 3, 5])"
   ]
  },
  {
   "cell_type": "markdown",
   "id": "d960b829",
   "metadata": {},
   "source": [
    "### Bad Use of *"
   ]
  },
  {
   "cell_type": "code",
   "execution_count": 12,
   "id": "c46a7989",
   "metadata": {},
   "outputs": [
    {
     "name": "stdout",
     "output_type": "stream",
     "text": [
      "<function match at 0x000002C6C6780790>\n"
     ]
    }
   ],
   "source": [
    "match = 10\n",
    "from re import *  # re also has match \n",
    "print(match)"
   ]
  },
  {
   "cell_type": "code",
   "execution_count": 13,
   "id": "b1c67380",
   "metadata": {},
   "outputs": [
    {
     "name": "stdout",
     "output_type": "stream",
     "text": [
      "10\n"
     ]
    }
   ],
   "source": [
    "import re\n",
    "\n",
    "match = 10\n",
    "print(match)"
   ]
  },
  {
   "cell_type": "markdown",
   "id": "bdb308b1",
   "metadata": {},
   "source": [
    "### Arithmetic"
   ]
  },
  {
   "cell_type": "code",
   "execution_count": 14,
   "id": "c753b4b0",
   "metadata": {},
   "outputs": [
    {
     "data": {
      "text/plain": [
       "2.5"
      ]
     },
     "execution_count": 14,
     "metadata": {},
     "output_type": "execute_result"
    }
   ],
   "source": [
    "5/2    # division"
   ]
  },
  {
   "cell_type": "code",
   "execution_count": 15,
   "id": "8ce5ea59",
   "metadata": {},
   "outputs": [
    {
     "data": {
      "text/plain": [
       "2"
      ]
     },
     "execution_count": 15,
     "metadata": {},
     "output_type": "execute_result"
    }
   ],
   "source": [
    "5//2   # integer division"
   ]
  },
  {
   "cell_type": "code",
   "execution_count": 16,
   "id": "aaeef775",
   "metadata": {},
   "outputs": [
    {
     "data": {
      "text/plain": [
       "1"
      ]
     },
     "execution_count": 16,
     "metadata": {},
     "output_type": "execute_result"
    }
   ],
   "source": [
    "5%2    # remainder division"
   ]
  },
  {
   "cell_type": "markdown",
   "id": "51b1127e",
   "metadata": {},
   "source": [
    "### Functions"
   ]
  },
  {
   "cell_type": "code",
   "execution_count": 17,
   "id": "fb29613f",
   "metadata": {},
   "outputs": [],
   "source": [
    "def double(x):\n",
    "    \"\"\"this is where you put an optional docstring\n",
    "    that explains what the function does.\n",
    "    for example, this function multiplies its input by 2\n",
    "    \"\"\"\n",
    "    return x*2"
   ]
  },
  {
   "cell_type": "code",
   "execution_count": 18,
   "id": "371ce045",
   "metadata": {},
   "outputs": [
    {
     "name": "stdout",
     "output_type": "stream",
     "text": [
      "Help on function double in module __main__:\n",
      "\n",
      "double(x)\n",
      "    this is where you put an optional docstring\n",
      "    that explains what the function does.\n",
      "    for example, this function multiplies its input by 2\n",
      "\n"
     ]
    }
   ],
   "source": [
    "help(double)"
   ]
  },
  {
   "cell_type": "code",
   "execution_count": 19,
   "id": "006b1702",
   "metadata": {},
   "outputs": [
    {
     "name": "stdout",
     "output_type": "stream",
     "text": [
      "9\n"
     ]
    }
   ],
   "source": [
    "another_double = lambda x: x**2\n",
    "\n",
    "variable = 3\n",
    "print(another_double(variable))"
   ]
  },
  {
   "cell_type": "code",
   "execution_count": 20,
   "id": "10804aa2",
   "metadata": {},
   "outputs": [],
   "source": [
    "def my_print(message=\"my default message\"):\n",
    "    print(message)"
   ]
  },
  {
   "cell_type": "code",
   "execution_count": 21,
   "id": "e9d227a2",
   "metadata": {},
   "outputs": [
    {
     "name": "stdout",
     "output_type": "stream",
     "text": [
      "hello\n",
      "my default message\n"
     ]
    }
   ],
   "source": [
    "my_print(\"hello\")\n",
    "my_print()"
   ]
  },
  {
   "cell_type": "code",
   "execution_count": 22,
   "id": "36bd3c42",
   "metadata": {},
   "outputs": [],
   "source": [
    "def subtract(a=0, b=0):\n",
    "    return a-b"
   ]
  },
  {
   "cell_type": "code",
   "execution_count": 23,
   "id": "fb957388",
   "metadata": {},
   "outputs": [
    {
     "name": "stdout",
     "output_type": "stream",
     "text": [
      "5\n",
      "-5\n",
      "5\n",
      "-5\n"
     ]
    }
   ],
   "source": [
    "print(subtract(10,5))\n",
    "print(subtract(0,5))\n",
    "print(subtract(5))\n",
    "print(subtract(b=5))"
   ]
  },
  {
   "cell_type": "markdown",
   "id": "2cd7208c",
   "metadata": {},
   "source": [
    "### Strings"
   ]
  },
  {
   "cell_type": "code",
   "execution_count": 24,
   "id": "cb441390",
   "metadata": {},
   "outputs": [],
   "source": [
    "single_quote_string = 'data science'\n",
    "double_quotez_string = \"data science\""
   ]
  },
  {
   "cell_type": "code",
   "execution_count": 25,
   "id": "502256b2",
   "metadata": {},
   "outputs": [
    {
     "data": {
      "text/plain": [
       "'\\\\t'"
      ]
     },
     "execution_count": 25,
     "metadata": {},
     "output_type": "execute_result"
    }
   ],
   "source": [
    "not_tab_string = r\"\\t\"\n",
    "not_tab_string"
   ]
  },
  {
   "cell_type": "code",
   "execution_count": 26,
   "id": "246bd1a1",
   "metadata": {},
   "outputs": [
    {
     "data": {
      "text/plain": [
       "2"
      ]
     },
     "execution_count": 26,
     "metadata": {},
     "output_type": "execute_result"
    }
   ],
   "source": [
    "len(not_tab_string)"
   ]
  },
  {
   "cell_type": "markdown",
   "id": "f6a2cf75",
   "metadata": {},
   "source": [
    "### Exceptions"
   ]
  },
  {
   "cell_type": "code",
   "execution_count": 27,
   "id": "66146f36",
   "metadata": {},
   "outputs": [
    {
     "ename": "ZeroDivisionError",
     "evalue": "division by zero",
     "output_type": "error",
     "traceback": [
      "\u001b[1;31m---------------------------------------------------------------------------\u001b[0m",
      "\u001b[1;31mZeroDivisionError\u001b[0m                         Traceback (most recent call last)",
      "Input \u001b[1;32mIn [27]\u001b[0m, in \u001b[0;36m<cell line: 1>\u001b[1;34m()\u001b[0m\n\u001b[1;32m----> 1\u001b[0m \u001b[38;5;28mprint\u001b[39m(\u001b[38;5;241;43m0\u001b[39;49m\u001b[38;5;241;43m/\u001b[39;49m\u001b[38;5;241;43m0\u001b[39;49m)\n",
      "\u001b[1;31mZeroDivisionError\u001b[0m: division by zero"
     ]
    }
   ],
   "source": [
    "print(0/0)"
   ]
  },
  {
   "cell_type": "code",
   "execution_count": null,
   "id": "ffeb0821",
   "metadata": {},
   "outputs": [],
   "source": [
    "try:\n",
    "    print(0/0)\n",
    "except ZeroDivisionError:\n",
    "    print(f\"can not divide by zero, {ZeroDivisionError}\")\n",
    "    \n",
    "finally:\n",
    "    print(\"in each cases run\")"
   ]
  },
  {
   "cell_type": "markdown",
   "id": "111f0975",
   "metadata": {},
   "source": [
    "### Lists"
   ]
  },
  {
   "cell_type": "code",
   "execution_count": null,
   "id": "54d8e1f5",
   "metadata": {},
   "outputs": [],
   "source": [
    "integer_list = [1, 2, 3, 4, 5]\n",
    "heterogeneous_list = [\"string\", 0.1, True]\n",
    "list_of_lists = [integer_list, heterogeneous_list, []]"
   ]
  },
  {
   "cell_type": "code",
   "execution_count": null,
   "id": "f989a6f3",
   "metadata": {},
   "outputs": [],
   "source": [
    "list_length = len(integer_list)\n",
    "list_sum = sum(integer_list)\n",
    "print(f\"length of integer_list is: {list_length}, sum of\\\n",
    "list is: {list_sum}\")"
   ]
  },
  {
   "cell_type": "code",
   "execution_count": null,
   "id": "7f102611",
   "metadata": {},
   "outputs": [],
   "source": [
    "x = list(range(8))\n",
    "x"
   ]
  },
  {
   "cell_type": "code",
   "execution_count": null,
   "id": "2e710024",
   "metadata": {},
   "outputs": [],
   "source": [
    "zero = x[0]\n",
    "one = x[1]\n",
    "five = x[5]\n",
    "last = x[-1]"
   ]
  },
  {
   "cell_type": "code",
   "execution_count": null,
   "id": "4e3b86b6",
   "metadata": {},
   "outputs": [],
   "source": [
    "x[0] = -1  # now x[0] is -1, lists are mutable"
   ]
  },
  {
   "cell_type": "code",
   "execution_count": null,
   "id": "508d5c2e",
   "metadata": {},
   "outputs": [],
   "source": [
    "first_two = x[0:2]\n",
    "last_three = x[-3:]\n",
    "last_three"
   ]
  },
  {
   "cell_type": "code",
   "execution_count": null,
   "id": "3f616ab5",
   "metadata": {},
   "outputs": [],
   "source": [
    "even_index = x[0::2]"
   ]
  },
  {
   "cell_type": "code",
   "execution_count": null,
   "id": "384d4ffa",
   "metadata": {},
   "outputs": [],
   "source": [
    "even_index"
   ]
  },
  {
   "cell_type": "code",
   "execution_count": null,
   "id": "f39be002",
   "metadata": {},
   "outputs": [],
   "source": [
    "odd_index = x[1::2]"
   ]
  },
  {
   "cell_type": "code",
   "execution_count": null,
   "id": "fb04b275",
   "metadata": {},
   "outputs": [],
   "source": [
    "odd_index"
   ]
  },
  {
   "cell_type": "code",
   "execution_count": null,
   "id": "3be467b1",
   "metadata": {},
   "outputs": [],
   "source": [
    "-1 in [-1, 2, 3]"
   ]
  },
  {
   "cell_type": "code",
   "execution_count": null,
   "id": "d5968553",
   "metadata": {},
   "outputs": [],
   "source": [
    "-1 in [1, 3, 5]"
   ]
  },
  {
   "cell_type": "code",
   "execution_count": null,
   "id": "bc2658df",
   "metadata": {},
   "outputs": [],
   "source": [
    "x = [1, 2, 3]"
   ]
  },
  {
   "cell_type": "code",
   "execution_count": null,
   "id": "be0b7817",
   "metadata": {},
   "outputs": [],
   "source": [
    "copy_x = x[:]"
   ]
  },
  {
   "cell_type": "code",
   "execution_count": null,
   "id": "5efb62a2",
   "metadata": {},
   "outputs": [],
   "source": [
    "reference_x = x"
   ]
  },
  {
   "cell_type": "code",
   "execution_count": null,
   "id": "273dabdb",
   "metadata": {},
   "outputs": [],
   "source": [
    "reference_x[0] = 30"
   ]
  },
  {
   "cell_type": "code",
   "execution_count": null,
   "id": "d6a023be",
   "metadata": {},
   "outputs": [],
   "source": [
    "x[0]"
   ]
  },
  {
   "cell_type": "code",
   "execution_count": null,
   "id": "d8806906",
   "metadata": {},
   "outputs": [],
   "source": [
    "copy_x"
   ]
  },
  {
   "cell_type": "code",
   "execution_count": null,
   "id": "1725f518",
   "metadata": {},
   "outputs": [],
   "source": [
    "copy_x[0] = 20"
   ]
  },
  {
   "cell_type": "code",
   "execution_count": null,
   "id": "13eec59a",
   "metadata": {},
   "outputs": [],
   "source": [
    "copy_x"
   ]
  },
  {
   "cell_type": "code",
   "execution_count": null,
   "id": "7d50481b",
   "metadata": {},
   "outputs": [],
   "source": [
    "x"
   ]
  },
  {
   "cell_type": "code",
   "execution_count": null,
   "id": "ed4ed8f8",
   "metadata": {},
   "outputs": [],
   "source": [
    "p = [9, 8, 7, 6]"
   ]
  },
  {
   "cell_type": "code",
   "execution_count": null,
   "id": "3c23f8e2",
   "metadata": {},
   "outputs": [],
   "source": [
    "p.extend([4, 5, 6, 7])"
   ]
  },
  {
   "cell_type": "code",
   "execution_count": null,
   "id": "8f62462b",
   "metadata": {},
   "outputs": [],
   "source": [
    "p"
   ]
  },
  {
   "cell_type": "code",
   "execution_count": null,
   "id": "7be9fd12",
   "metadata": {},
   "outputs": [],
   "source": [
    "k = [4, 5, 6, 2]\n",
    "l = k + [3, 9]"
   ]
  },
  {
   "cell_type": "code",
   "execution_count": null,
   "id": "f68ebaea",
   "metadata": {},
   "outputs": [],
   "source": [
    "l"
   ]
  },
  {
   "cell_type": "code",
   "execution_count": null,
   "id": "52555c05",
   "metadata": {},
   "outputs": [],
   "source": [
    "k"
   ]
  },
  {
   "cell_type": "code",
   "execution_count": null,
   "id": "a9dec640",
   "metadata": {},
   "outputs": [],
   "source": [
    "# list unpacking\n",
    "x, y = [45, 54]\n",
    "print(f\"x is: {x}, y is: {y}\")"
   ]
  },
  {
   "cell_type": "code",
   "execution_count": null,
   "id": "b19c0667",
   "metadata": {},
   "outputs": [],
   "source": [
    "_, u = [34, 14]\n",
    "u\n",
    "_"
   ]
  },
  {
   "cell_type": "markdown",
   "id": "5e626efc",
   "metadata": {},
   "source": [
    "### Tuples"
   ]
  },
  {
   "cell_type": "code",
   "execution_count": null,
   "id": "004061c3",
   "metadata": {},
   "outputs": [],
   "source": [
    "my_list = [1, 2]\n",
    "my_tuple = (1, 2)\n",
    "my_tuple = 1, 2\n",
    "my_list[1] = 3"
   ]
  },
  {
   "cell_type": "code",
   "execution_count": null,
   "id": "26b64e26",
   "metadata": {},
   "outputs": [],
   "source": [
    "my_tuple[0] = 2"
   ]
  },
  {
   "cell_type": "code",
   "execution_count": null,
   "id": "612a6135",
   "metadata": {},
   "outputs": [],
   "source": [
    "print(my_tuple[0])"
   ]
  },
  {
   "cell_type": "code",
   "execution_count": null,
   "id": "06118a79",
   "metadata": {},
   "outputs": [],
   "source": [
    "try:\n",
    "    my_tuple[0] = 1\n",
    "except TypeError:\n",
    "    print(\"can not modify a tuple\")"
   ]
  },
  {
   "cell_type": "code",
   "execution_count": null,
   "id": "81fea65d",
   "metadata": {},
   "outputs": [],
   "source": [
    "# Tuples are a convenient way to return multiple values from functions"
   ]
  },
  {
   "cell_type": "code",
   "execution_count": null,
   "id": "d43b4ed8",
   "metadata": {},
   "outputs": [],
   "source": [
    "def sum_and_product(x: float, y:float) -> float:\n",
    "    return x+y, x*y"
   ]
  },
  {
   "cell_type": "code",
   "execution_count": null,
   "id": "11e79d20",
   "metadata": {},
   "outputs": [],
   "source": [
    "(s, p) = sum_and_product(9,8)\n",
    "print(f\"sum is: {s}, and product is: {p}\")"
   ]
  },
  {
   "cell_type": "code",
   "execution_count": null,
   "id": "8f4d24b9",
   "metadata": {},
   "outputs": [],
   "source": [
    "type(sum_and_product(10,4))"
   ]
  },
  {
   "cell_type": "code",
   "execution_count": null,
   "id": "db9171c4",
   "metadata": {},
   "outputs": [],
   "source": [
    "# swap variables\n",
    "x, y = 4, 10\n",
    "x, y = y, x"
   ]
  },
  {
   "cell_type": "code",
   "execution_count": null,
   "id": "79f5d23e",
   "metadata": {},
   "outputs": [],
   "source": [
    "print(f\"now x is: {x}, y is: {y}\")"
   ]
  },
  {
   "cell_type": "markdown",
   "id": "9e8d198f",
   "metadata": {},
   "source": [
    "### Dictionary"
   ]
  },
  {
   "cell_type": "code",
   "execution_count": null,
   "id": "02f3fb97",
   "metadata": {},
   "outputs": [],
   "source": [
    "empty_dict = {}\n",
    "type(empty_dict)"
   ]
  },
  {
   "cell_type": "code",
   "execution_count": null,
   "id": "6b6067df",
   "metadata": {},
   "outputs": [],
   "source": [
    "grades = {\"Joel\": 88, \"Tim\": 95}"
   ]
  },
  {
   "cell_type": "code",
   "execution_count": null,
   "id": "f3851f65",
   "metadata": {},
   "outputs": [],
   "source": [
    "grades[\"Joel\"]"
   ]
  },
  {
   "cell_type": "code",
   "execution_count": null,
   "id": "c8af4087",
   "metadata": {},
   "outputs": [],
   "source": [
    "try:\n",
    "    print(grades[0])\n",
    "except KeyError:\n",
    "    print(\"There is no such key in the dictionary\")"
   ]
  },
  {
   "cell_type": "code",
   "execution_count": null,
   "id": "b5c43937",
   "metadata": {},
   "outputs": [],
   "source": [
    "list(grades.keys())"
   ]
  },
  {
   "cell_type": "code",
   "execution_count": null,
   "id": "c92ed14b",
   "metadata": {},
   "outputs": [],
   "source": [
    "list(grades.values())"
   ]
  },
  {
   "cell_type": "code",
   "execution_count": null,
   "id": "d78d5378",
   "metadata": {},
   "outputs": [],
   "source": [
    "grades.pop(\"Joel\")"
   ]
  },
  {
   "cell_type": "code",
   "execution_count": null,
   "id": "7dd701b9",
   "metadata": {},
   "outputs": [],
   "source": [
    "grades"
   ]
  },
  {
   "cell_type": "code",
   "execution_count": null,
   "id": "45932d19",
   "metadata": {},
   "outputs": [],
   "source": [
    "if \"zahed\" in grades:\n",
    "    print(grades[\"zahed\"])\n",
    "else:\n",
    "    print(\"zahed doesn't exist in grades\")"
   ]
  },
  {
   "cell_type": "code",
   "execution_count": null,
   "id": "c2936af2",
   "metadata": {},
   "outputs": [],
   "source": [
    "# default values\n",
    "print(grades.get(\"Joel\", \"doesn't exist\"))"
   ]
  },
  {
   "cell_type": "code",
   "execution_count": null,
   "id": "37406801",
   "metadata": {},
   "outputs": [],
   "source": [
    "# default values\n",
    "print(grades.get(\"Joel\", 0))"
   ]
  },
  {
   "cell_type": "code",
   "execution_count": null,
   "id": "ad65455c",
   "metadata": {},
   "outputs": [],
   "source": [
    "print(grades.get(\"Tim\", 0))"
   ]
  },
  {
   "cell_type": "code",
   "execution_count": null,
   "id": "82306202",
   "metadata": {},
   "outputs": [],
   "source": [
    "print(grades.get(\"zahed\"))"
   ]
  },
  {
   "cell_type": "code",
   "execution_count": null,
   "id": "df974459",
   "metadata": {},
   "outputs": [],
   "source": [
    "if grades.get(\"zahed\")==None:\n",
    "    print(\"No key\")"
   ]
  },
  {
   "cell_type": "code",
   "execution_count": null,
   "id": "355d9091",
   "metadata": {},
   "outputs": [],
   "source": [
    "# list of tuples\n",
    "grades.items()"
   ]
  },
  {
   "cell_type": "code",
   "execution_count": null,
   "id": "c9c10c37",
   "metadata": {},
   "outputs": [],
   "source": [
    "grades.setdefault(\"zahed\", 200)"
   ]
  },
  {
   "cell_type": "code",
   "execution_count": null,
   "id": "61953fb3",
   "metadata": {},
   "outputs": [],
   "source": [
    "grades.get(\"zahed\")"
   ]
  },
  {
   "cell_type": "code",
   "execution_count": null,
   "id": "89e56616",
   "metadata": {},
   "outputs": [],
   "source": [
    "# list of keys\n",
    "grades_keys = grades.keys()\n",
    "\n",
    "# list of values\n",
    "grades_values = grades.values()"
   ]
  },
  {
   "cell_type": "code",
   "execution_count": null,
   "id": "f3e96690",
   "metadata": {},
   "outputs": [],
   "source": [
    "# dictionary keys must be immutable"
   ]
  },
  {
   "cell_type": "code",
   "execution_count": null,
   "id": "dfb749e4",
   "metadata": {},
   "outputs": [],
   "source": [
    "document = \"Hello you the this is a test that you counts the number of\\\n",
    "number hello count\"\n",
    "\n",
    "word_counts = {}\n",
    "for word in document.lower().split(\" \"):\n",
    "    if word in word_counts:\n",
    "        word_counts[word] +=1\n",
    "    else:\n",
    "        word_counts[word] = 1"
   ]
  },
  {
   "cell_type": "code",
   "execution_count": null,
   "id": "499a924a",
   "metadata": {},
   "outputs": [],
   "source": [
    "word_counts"
   ]
  },
  {
   "cell_type": "code",
   "execution_count": null,
   "id": "a1ff5684",
   "metadata": {},
   "outputs": [],
   "source": [
    "# defaultdict\n",
    "from collections import defaultdict\n",
    "\n",
    "word_counts = defaultdict(int)\n",
    "for word in document.lower().split(\" \"):\n",
    "    word_counts[word] +=1"
   ]
  },
  {
   "cell_type": "code",
   "execution_count": null,
   "id": "06e2cf25",
   "metadata": {},
   "outputs": [],
   "source": [
    "word_counts"
   ]
  },
  {
   "cell_type": "code",
   "execution_count": null,
   "id": "51133b24",
   "metadata": {},
   "outputs": [],
   "source": [
    "dd_list = defaultdict(list)\n",
    "dd_list[2].append(3)"
   ]
  },
  {
   "cell_type": "code",
   "execution_count": null,
   "id": "a0d88495",
   "metadata": {},
   "outputs": [],
   "source": [
    "dd_list"
   ]
  },
  {
   "cell_type": "code",
   "execution_count": null,
   "id": "573e5178",
   "metadata": {
    "scrolled": true
   },
   "outputs": [],
   "source": [
    "dd_list"
   ]
  },
  {
   "cell_type": "code",
   "execution_count": null,
   "id": "17a1ffce",
   "metadata": {},
   "outputs": [],
   "source": [
    "dd_dict = defaultdict(dict)\n",
    "dd_dict[\"Joel\"][\"city\"] = \"Seatle\""
   ]
  },
  {
   "cell_type": "code",
   "execution_count": null,
   "id": "d1fc8c9d",
   "metadata": {},
   "outputs": [],
   "source": [
    "dd_dict"
   ]
  },
  {
   "cell_type": "code",
   "execution_count": null,
   "id": "919be4c5",
   "metadata": {},
   "outputs": [],
   "source": [
    "# Counter\n",
    "from collections import Counter\n",
    "\n",
    "c = Counter([0, 1, 2, 0])"
   ]
  },
  {
   "cell_type": "code",
   "execution_count": null,
   "id": "92f4f3a4",
   "metadata": {},
   "outputs": [],
   "source": [
    "c"
   ]
  },
  {
   "cell_type": "code",
   "execution_count": null,
   "id": "e626aaa1",
   "metadata": {},
   "outputs": [],
   "source": [
    "c[0]"
   ]
  },
  {
   "cell_type": "code",
   "execution_count": null,
   "id": "36e80f42",
   "metadata": {},
   "outputs": [],
   "source": [
    "word_counts_with_counter = Counter(document.lower().split(\" \"))"
   ]
  },
  {
   "cell_type": "code",
   "execution_count": null,
   "id": "d3ef929f",
   "metadata": {},
   "outputs": [],
   "source": [
    "word_counts_with_counter"
   ]
  },
  {
   "cell_type": "code",
   "execution_count": null,
   "id": "423e9b62",
   "metadata": {},
   "outputs": [],
   "source": [
    "# most_common method of Counter instance\n",
    "for word, count in word_counts_with_counter.most_common(15):\n",
    "    print(word, count)"
   ]
  },
  {
   "cell_type": "markdown",
   "id": "3d83b84c",
   "metadata": {},
   "source": [
    "### Sets"
   ]
  },
  {
   "cell_type": "code",
   "execution_count": null,
   "id": "284bb53e",
   "metadata": {},
   "outputs": [],
   "source": [
    "# set is a collection of distinct elements\n",
    "s = set()\n",
    "s.add(1)\n",
    "s.add(3)\n",
    "s.add(3)\n",
    "s.add(2)"
   ]
  },
  {
   "cell_type": "code",
   "execution_count": null,
   "id": "082c48bc",
   "metadata": {},
   "outputs": [],
   "source": [
    "s"
   ]
  },
  {
   "cell_type": "code",
   "execution_count": null,
   "id": "69556fe7",
   "metadata": {},
   "outputs": [],
   "source": [
    "len(s)"
   ]
  },
  {
   "cell_type": "code",
   "execution_count": null,
   "id": "684f6942",
   "metadata": {},
   "outputs": [],
   "source": [
    "y = 2 in s"
   ]
  },
  {
   "cell_type": "code",
   "execution_count": null,
   "id": "817fba52",
   "metadata": {},
   "outputs": [],
   "source": [
    "y"
   ]
  },
  {
   "cell_type": "code",
   "execution_count": null,
   "id": "03173b05",
   "metadata": {},
   "outputs": [],
   "source": [
    "# set is very fast for in operation\n",
    "item_list = [1, 2, 3, 1, 2, 3]\n",
    "num_items = len(item_list)\n",
    "print(\"number of items are: \", num_items)\n",
    "\n",
    "item_set = set(item_list)\n",
    "num_distinct_items = len(item_set)\n",
    "print(\"number of distinct items: \", num_distinct_items)\n",
    "distinct_item_list = list(item_set)\n"
   ]
  },
  {
   "cell_type": "markdown",
   "id": "a25cb832",
   "metadata": {},
   "source": [
    "### Control Flow"
   ]
  },
  {
   "cell_type": "code",
   "execution_count": 28,
   "id": "32e1986c",
   "metadata": {},
   "outputs": [],
   "source": [
    "if 1 > 2:\n",
    "    message = \"if only 1 were greater than two\"\n",
    "elif 1 > 3:\n",
    "    message = \"elif stands for else if\"\n",
    "else:\n",
    "    message = \"when all else fails use else (if you want to)\"\n"
   ]
  },
  {
   "cell_type": "code",
   "execution_count": 29,
   "id": "ee0ac1d3",
   "metadata": {},
   "outputs": [],
   "source": [
    "x = 4\n",
    "parity = \"even\" if x % 2 == 0 else \"odd\""
   ]
  },
  {
   "cell_type": "code",
   "execution_count": 30,
   "id": "7570fd26",
   "metadata": {},
   "outputs": [
    {
     "data": {
      "text/plain": [
       "'even'"
      ]
     },
     "execution_count": 30,
     "metadata": {},
     "output_type": "execute_result"
    }
   ],
   "source": [
    "parity"
   ]
  },
  {
   "cell_type": "code",
   "execution_count": 31,
   "id": "1fdca4de",
   "metadata": {},
   "outputs": [
    {
     "name": "stdout",
     "output_type": "stream",
     "text": [
      "0  is less than 10\n",
      "1  is less than 10\n",
      "2  is less than 10\n",
      "3  is less than 10\n",
      "4  is less than 10\n",
      "5  is less than 10\n",
      "6  is less than 10\n",
      "7  is less than 10\n",
      "8  is less than 10\n",
      "9  is less than 10\n"
     ]
    }
   ],
   "source": [
    "x = 0\n",
    "while x < 10:\n",
    "    print(x, \" is less than 10\")\n",
    "    x +=1\n"
   ]
  },
  {
   "cell_type": "code",
   "execution_count": 35,
   "id": "7de9df23",
   "metadata": {},
   "outputs": [
    {
     "name": "stdout",
     "output_type": "stream",
     "text": [
      "0  is less than 10\n",
      "1  is less than 10\n",
      "2  is less than 10\n",
      "3  is less than 10\n",
      "4  is less than 10\n",
      "5  is less than 10\n",
      "6  is less than 10\n",
      "7  is less than 10\n",
      "8  is less than 10\n",
      "9  is less than 10\n"
     ]
    }
   ],
   "source": [
    "for x in range(10):\n",
    "    print(x, \" is less than 10\")"
   ]
  },
  {
   "cell_type": "code",
   "execution_count": 36,
   "id": "d689a260",
   "metadata": {},
   "outputs": [
    {
     "name": "stdout",
     "output_type": "stream",
     "text": [
      "x is:  0\n",
      "x is:  1\n",
      "x is:  2\n",
      "x is:  4\n"
     ]
    }
   ],
   "source": [
    "for x in range(10):\n",
    "    if x == 3:\n",
    "        continue\n",
    "    if x == 5:\n",
    "        break\n",
    "    print(\"x is: \", x)"
   ]
  },
  {
   "cell_type": "markdown",
   "id": "049d37b5",
   "metadata": {},
   "source": [
    "### Truthiness"
   ]
  },
  {
   "cell_type": "code",
   "execution_count": 37,
   "id": "b466b8fa",
   "metadata": {},
   "outputs": [],
   "source": [
    "one_is_less_than_two = 1 < 2 # equals True"
   ]
  },
  {
   "cell_type": "code",
   "execution_count": 38,
   "id": "0e97fbef",
   "metadata": {},
   "outputs": [
    {
     "data": {
      "text/plain": [
       "True"
      ]
     },
     "execution_count": 38,
     "metadata": {},
     "output_type": "execute_result"
    }
   ],
   "source": [
    "one_is_less_than_two"
   ]
  },
  {
   "cell_type": "code",
   "execution_count": 39,
   "id": "4c2d5453",
   "metadata": {},
   "outputs": [
    {
     "name": "stdout",
     "output_type": "stream",
     "text": [
      "True\n",
      "True\n"
     ]
    }
   ],
   "source": [
    "x = None\n",
    "print(x==None)\n",
    "print(x is None)"
   ]
  },
  {
   "cell_type": "code",
   "execution_count": 43,
   "id": "a4acef84",
   "metadata": {},
   "outputs": [
    {
     "name": "stdout",
     "output_type": "stream",
     "text": [
      "helaeafl\n"
     ]
    }
   ],
   "source": [
    "y = \"\"\n",
    "if not y :\n",
    "    print(\"helaeafl\")"
   ]
  },
  {
   "cell_type": "code",
   "execution_count": 48,
   "id": "e6fa09d9",
   "metadata": {},
   "outputs": [],
   "source": [
    "x = -10\n",
    "safe_x = x or 0"
   ]
  },
  {
   "cell_type": "code",
   "execution_count": 49,
   "id": "84a634d7",
   "metadata": {},
   "outputs": [
    {
     "name": "stdout",
     "output_type": "stream",
     "text": [
      "-10\n"
     ]
    }
   ],
   "source": [
    "print(safe_x)"
   ]
  },
  {
   "cell_type": "code",
   "execution_count": 50,
   "id": "80496fdb",
   "metadata": {},
   "outputs": [
    {
     "data": {
      "text/plain": [
       "True"
      ]
     },
     "execution_count": 50,
     "metadata": {},
     "output_type": "execute_result"
    }
   ],
   "source": [
    "all([True, 1, {3}])"
   ]
  },
  {
   "cell_type": "code",
   "execution_count": 51,
   "id": "c2dc6fbf",
   "metadata": {},
   "outputs": [
    {
     "data": {
      "text/plain": [
       "False"
      ]
     },
     "execution_count": 51,
     "metadata": {},
     "output_type": "execute_result"
    }
   ],
   "source": [
    "all([True, 3, {}])"
   ]
  },
  {
   "cell_type": "code",
   "execution_count": 52,
   "id": "2cc11b60",
   "metadata": {},
   "outputs": [
    {
     "data": {
      "text/plain": [
       "True"
      ]
     },
     "execution_count": 52,
     "metadata": {},
     "output_type": "execute_result"
    }
   ],
   "source": [
    "any([True, 1, {}])"
   ]
  },
  {
   "cell_type": "code",
   "execution_count": 53,
   "id": "7120ecfc",
   "metadata": {},
   "outputs": [
    {
     "data": {
      "text/plain": [
       "True"
      ]
     },
     "execution_count": 53,
     "metadata": {},
     "output_type": "execute_result"
    }
   ],
   "source": [
    "all([])"
   ]
  },
  {
   "cell_type": "code",
   "execution_count": 54,
   "id": "b701c13e",
   "metadata": {},
   "outputs": [
    {
     "data": {
      "text/plain": [
       "False"
      ]
     },
     "execution_count": 54,
     "metadata": {},
     "output_type": "execute_result"
    }
   ],
   "source": [
    "any([])"
   ]
  },
  {
   "cell_type": "markdown",
   "id": "63330dce",
   "metadata": {},
   "source": [
    "## The Not-So-Basics"
   ]
  },
  {
   "cell_type": "code",
   "execution_count": null,
   "id": "f2b6dfbb",
   "metadata": {},
   "outputs": [],
   "source": []
  },
  {
   "cell_type": "markdown",
   "id": "5b7d5f11",
   "metadata": {},
   "source": [
    "# Well Done!"
   ]
  }
 ],
 "metadata": {
  "kernelspec": {
   "display_name": "Python 3 (ipykernel)",
   "language": "python",
   "name": "python3"
  },
  "language_info": {
   "codemirror_mode": {
    "name": "ipython",
    "version": 3
   },
   "file_extension": ".py",
   "mimetype": "text/x-python",
   "name": "python",
   "nbconvert_exporter": "python",
   "pygments_lexer": "ipython3",
   "version": "3.9.12"
  }
 },
 "nbformat": 4,
 "nbformat_minor": 5
}
