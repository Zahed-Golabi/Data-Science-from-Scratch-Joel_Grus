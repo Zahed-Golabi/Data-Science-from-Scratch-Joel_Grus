{
 "cells": [
  {
   "cell_type": "markdown",
   "id": "d83c9248",
   "metadata": {},
   "source": [
    "# Hypothesis and Inference"
   ]
  },
  {
   "cell_type": "markdown",
   "id": "188947a0",
   "metadata": {},
   "source": [
    "Often, as data scientists, we’ll want to test whether a certain hypothesis is likely to be true.\n",
    "For our purposes, hypotheses are assertions like “this coin is fair” or “data scientists prefer\n",
    "Python to R”"
   ]
  },
  {
   "cell_type": "markdown",
   "id": "623c1df4",
   "metadata": {},
   "source": [
    "### Flipping a Coin"
   ]
  },
  {
   "cell_type": "markdown",
   "id": "5273b8eb",
   "metadata": {},
   "source": [
    "Imagine we have a coin and we want to test whether it's fiar."
   ]
  },
  {
   "cell_type": "code",
   "execution_count": 1,
   "id": "25633c22",
   "metadata": {},
   "outputs": [],
   "source": [
    "import math"
   ]
  },
  {
   "cell_type": "code",
   "execution_count": 2,
   "id": "24ca09be",
   "metadata": {},
   "outputs": [],
   "source": [
    "def normal_approximation_to_binomial(n, p):\n",
    "    \"\"\"finds mu and sigma corresponding to a Binomial(n, p)\"\"\"\n",
    "    mu = n * p\n",
    "    sigma = math.sqrt(p * (1 - p) * n)\n",
    "    return mu,sigma"
   ]
  },
  {
   "cell_type": "code",
   "execution_count": 3,
   "id": "aca01312",
   "metadata": {},
   "outputs": [],
   "source": [
    "def normal_cdf(x, mu=0, sigma=1):\n",
    "    return (1 + math.erf((x-mu) / math.sqrt(2) / sigma)) / 2"
   ]
  },
  {
   "cell_type": "code",
   "execution_count": 4,
   "id": "2fd2ace6",
   "metadata": {},
   "outputs": [],
   "source": [
    "# the normal_cdf is the probability the variable is below a threshold\n",
    "normal_probability_below = normal_cdf\n",
    "\n",
    "# it's above the threshold if it's not below the threshold\n",
    "def normal_probability_above(lo, mu=0, sigma=1):\n",
    "    return 1 - normal_cdf(lo, mu, sigma)\n",
    "\n",
    "# it's between if it's less than hi, bit not less than lo\n",
    "def normal_probability_between(lo, hi, mu=0, sigma=1):\n",
    "    return normal_cdf(hi, mu, sigma) - normal_cdf(lo, mu, sigma)\n",
    "\n",
    "# it's outside if it's not between\n",
    "def normal_probability_outside(lo, hi, mu=0, sigma=1):\n",
    "    return 1 - normal_probability_between(lo, hi, mu, sigma)"
   ]
  },
  {
   "cell_type": "code",
   "execution_count": 6,
   "id": "38478121",
   "metadata": {},
   "outputs": [],
   "source": [
    "# Inverse Normal CDF\n",
    "def inverse_normal_cdf(p, mu=0, sigma=1, tolerance=0.00001):\n",
    "    \"\"\"find approximate inverse using binary search\"\"\"\n",
    "    \n",
    "    # if not standard, compute standard and rescale\n",
    "    if mu != 0 or sigma !=1:\n",
    "        return mu + sigma * inverse_normal_cdf(p,tolerance=tolerance)\n",
    "    \n",
    "    low_z, low_p = -10.0, 0   # normal_cdf(-10) is very close to 0\n",
    "    hi_z, hi_p = 10.0, 1      # normal_cdf(10) is very close to 1\n",
    "    while hi_z - low_z > tolerance:\n",
    "        mid_z = (low_z + hi_z) / 2\n",
    "        mid_p = (low_p + hi_p) / 2\n",
    "        if mid_p < p:\n",
    "            low_z, low_p = mid_z, mid_p\n",
    "        elif mid_p > p:\n",
    "            hi_z, hi_p = mid_z, mid_p\n",
    "        else:\n",
    "            break\n",
    "    \n",
    "    return mid_z"
   ]
  },
  {
   "cell_type": "markdown",
   "id": "22f63afc",
   "metadata": {},
   "source": [
    "We can also do the reverse — find either the nontail region or the (symmetric) interval\n",
    "around the mean that accounts for a certain level of likelihood"
   ]
  },
  {
   "cell_type": "code",
   "execution_count": 7,
   "id": "a3d35f9e",
   "metadata": {},
   "outputs": [],
   "source": [
    "def normal_upper_bound(probability, mu=0, sigma=1):\n",
    "    \"\"\"returns the z for which P(Z <= z) = probability\"\"\"\n",
    "    return inverse_normal_cdf(probability, mu, sigma)\n",
    "\n",
    "def normal_lower_bound(probability, mu=0, sigma=1):\n",
    "    \"\"\"returns the z for which P(Z >= z) = probability\"\"\"\n",
    "    return inverse_normal_cdf(1 - probability, mu, sigma)\n",
    "\n",
    "def normal_two_sided_bounds(probability, mu=0, sigma=1):\n",
    "    \"\"\"returns the symmetric (about the mean) bounds that \n",
    "    contain the specified probability\"\"\"\n",
    "    tail_probability = (1 - probability) / 2\n",
    "    \n",
    "    # upper bound should have tail_probability above it\n",
    "    upper_bound = normal_lower_bound(tail_probability, mu, sigma)\n",
    "    \n",
    "    # lower bound should have tail_probability below it\n",
    "    lower_bound = normal_upper_bound(tail_probability, mu, sigma)\n",
    "    \n",
    "    return lower_bound, upper_bound"
   ]
  },
  {
   "cell_type": "markdown",
   "id": "f109098e",
   "metadata": {},
   "source": [
    "---"
   ]
  },
  {
   "cell_type": "markdown",
   "id": "11cb14ba",
   "metadata": {},
   "source": [
    "In particular, let’s say that we choose to flip the coin n=1000 times. If our\n",
    "hypothesis of fairness is true, X should be distributed approximately normally with mean\n",
    "50 and standard deviation 15.8"
   ]
  },
  {
   "cell_type": "code",
   "execution_count": 8,
   "id": "645c0dc6",
   "metadata": {},
   "outputs": [],
   "source": [
    "mu_0, sigma_0 = normal_approximation_to_binomial(1000, 0.5)"
   ]
  },
  {
   "cell_type": "code",
   "execution_count": 9,
   "id": "abbc643f",
   "metadata": {},
   "outputs": [
    {
     "name": "stdout",
     "output_type": "stream",
     "text": [
      "mu_0 is: 500.0, and sigma_0 is: 15.811388300841896\n"
     ]
    }
   ],
   "source": [
    "print(f\"mu_0 is: {mu_0}, and sigma_0 is: {sigma_0}\")"
   ]
  }
 ],
 "metadata": {
  "kernelspec": {
   "display_name": "Python 3 (ipykernel)",
   "language": "python",
   "name": "python3"
  },
  "language_info": {
   "codemirror_mode": {
    "name": "ipython",
    "version": 3
   },
   "file_extension": ".py",
   "mimetype": "text/x-python",
   "name": "python",
   "nbconvert_exporter": "python",
   "pygments_lexer": "ipython3",
   "version": "3.9.12"
  }
 },
 "nbformat": 4,
 "nbformat_minor": 5
}
