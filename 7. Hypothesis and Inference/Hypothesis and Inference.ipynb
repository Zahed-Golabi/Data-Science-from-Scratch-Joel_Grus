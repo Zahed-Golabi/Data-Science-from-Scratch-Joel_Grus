{
 "cells": [
  {
   "cell_type": "markdown",
   "id": "af4b3d23",
   "metadata": {},
   "source": [
    "# Hypothesis and Inference"
   ]
  },
  {
   "cell_type": "markdown",
   "id": "22612ddc",
   "metadata": {},
   "source": [
    "Often, as data scientists, we’ll want to test whether a certain hypothesis is likely to be true.\n",
    "For our purposes, hypotheses are assertions like “this coin is fair” or “data scientists prefer\n",
    "Python to R”"
   ]
  },
  {
   "cell_type": "markdown",
   "id": "b23168a0",
   "metadata": {},
   "source": [
    "### Flipping a Coin"
   ]
  },
  {
   "cell_type": "markdown",
   "id": "bce2af54",
   "metadata": {},
   "source": [
    "Imagine we have a coin and we want to test whether it's fiar."
   ]
  },
  {
   "cell_type": "code",
   "execution_count": 1,
   "id": "79b5e0c7",
   "metadata": {},
   "outputs": [],
   "source": [
    "import math"
   ]
  },
  {
   "cell_type": "code",
   "execution_count": 2,
   "id": "b6f3adc1",
   "metadata": {},
   "outputs": [],
   "source": [
    "def normal_approximation_to_binomial(n, p):\n",
    "    \"\"\"finds mu and sigma corresponding to a Binomial(n, p)\"\"\"\n",
    "    mu = n * p\n",
    "    sigma = math.sqrt(p * (1 - p) * n)\n",
    "    return mu,sigma"
   ]
  },
  {
   "cell_type": "code",
   "execution_count": 3,
   "id": "4e925cb1",
   "metadata": {},
   "outputs": [],
   "source": [
    "def normal_cdf(x, mu=0, sigma=1):\n",
    "    return (1 + math.erf((x-mu) / math.sqrt(2) / sigma)) / 2"
   ]
  },
  {
   "cell_type": "code",
   "execution_count": 4,
   "id": "1ba55cb0",
   "metadata": {},
   "outputs": [],
   "source": [
    "# the normal_cdf is the probability the variable is below a threshold\n",
    "normal_probability_below = normal_cdf\n",
    "\n",
    "# it's above the threshold if it's not below the threshold\n",
    "def normal_probability_above(lo, mu=0, sigma=1):\n",
    "    return 1 - normal_cdf(lo, mu, sigma)\n",
    "\n",
    "# it's between if it's less than hi, bit not less than lo\n",
    "def normal_probability_between(lo, hi, mu=0, sigma=1):\n",
    "    return normal_cdf(hi, mu, sigma) - normal_cdf(lo, mu, sigma)\n",
    "\n",
    "# it's outside if it's not between\n",
    "def normal_probability_outside(lo, hi, mu=0, sigma=1):\n",
    "    return 1 - normal_probability_between(lo, hi, mu, sigma)"
   ]
  },
  {
   "cell_type": "code",
   "execution_count": 6,
   "id": "d3c71016",
   "metadata": {},
   "outputs": [],
   "source": [
    "# Inverse Normal CDF\n",
    "def inverse_normal_cdf(p, mu=0, sigma=1, tolerance=0.00001):\n",
    "    \"\"\"find approximate inverse using binary search\"\"\"\n",
    "    \n",
    "    # if not standard, compute standard and rescale\n",
    "    if mu != 0 or sigma !=1:\n",
    "        return mu + sigma * inverse_normal_cdf(p,tolerance=tolerance)\n",
    "    \n",
    "    low_z, low_p = -10.0, 0   # normal_cdf(-10) is very close to 0\n",
    "    hi_z, hi_p = 10.0, 1      # normal_cdf(10) is very close to 1\n",
    "    while hi_z - low_z > tolerance:\n",
    "        mid_z = (low_z + hi_z) / 2\n",
    "        mid_p = (low_p + hi_p) / 2\n",
    "        if mid_p < p:\n",
    "            low_z, low_p = mid_z, mid_p\n",
    "        elif mid_p > p:\n",
    "            hi_z, hi_p = mid_z, mid_p\n",
    "        else:\n",
    "            break\n",
    "    \n",
    "    return mid_z"
   ]
  },
  {
   "cell_type": "code",
   "execution_count": null,
   "id": "8b3da2f3",
   "metadata": {},
   "outputs": [],
   "source": []
  }
 ],
 "metadata": {
  "kernelspec": {
   "display_name": "Python 3 (ipykernel)",
   "language": "python",
   "name": "python3"
  },
  "language_info": {
   "codemirror_mode": {
    "name": "ipython",
    "version": 3
   },
   "file_extension": ".py",
   "mimetype": "text/x-python",
   "name": "python",
   "nbconvert_exporter": "python",
   "pygments_lexer": "ipython3",
   "version": "3.9.12"
  }
 },
 "nbformat": 4,
 "nbformat_minor": 5
}
