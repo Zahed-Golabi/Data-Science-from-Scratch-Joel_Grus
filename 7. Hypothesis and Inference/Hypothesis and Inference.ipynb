{
 "cells": [
  {
   "cell_type": "markdown",
   "id": "9f0973a4",
   "metadata": {},
   "source": [
    "# Hypothesis and Inference"
   ]
  },
  {
   "cell_type": "markdown",
   "id": "f5f25257",
   "metadata": {},
   "source": [
    "Often, as data scientists, we’ll want to test whether a certain hypothesis is likely to be true.\n",
    "For our purposes, hypotheses are assertions like “this coin is fair” or “data scientists prefer\n",
    "Python to R”"
   ]
  },
  {
   "cell_type": "markdown",
   "id": "f995048c",
   "metadata": {},
   "source": [
    "### Flipping a Coin"
   ]
  },
  {
   "cell_type": "markdown",
   "id": "a32bccd8",
   "metadata": {},
   "source": [
    "Imagine we have a coin and we want to test whether it's fiar."
   ]
  },
  {
   "cell_type": "code",
   "execution_count": 1,
   "id": "96d71dd5",
   "metadata": {},
   "outputs": [],
   "source": [
    "import math"
   ]
  },
  {
   "cell_type": "code",
   "execution_count": 2,
   "id": "b3707da4",
   "metadata": {},
   "outputs": [],
   "source": [
    "def normal_approximation_to_binomial(n, p):\n",
    "    \"\"\"finds mu and sigma corresponding to a Binomial(n, p)\"\"\"\n",
    "    mu = n * p\n",
    "    sigma = math.sqrt(p * (1 - p) * n)\n",
    "    return mu,sigma"
   ]
  },
  {
   "cell_type": "code",
   "execution_count": null,
   "id": "54b902b1",
   "metadata": {},
   "outputs": [],
   "source": []
  }
 ],
 "metadata": {
  "kernelspec": {
   "display_name": "Python 3 (ipykernel)",
   "language": "python",
   "name": "python3"
  },
  "language_info": {
   "codemirror_mode": {
    "name": "ipython",
    "version": 3
   },
   "file_extension": ".py",
   "mimetype": "text/x-python",
   "name": "python",
   "nbconvert_exporter": "python",
   "pygments_lexer": "ipython3",
   "version": "3.9.12"
  }
 },
 "nbformat": 4,
 "nbformat_minor": 5
}
