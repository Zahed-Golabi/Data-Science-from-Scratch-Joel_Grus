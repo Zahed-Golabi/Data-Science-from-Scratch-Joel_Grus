{
 "cells": [
  {
   "cell_type": "markdown",
   "id": "1ff57868",
   "metadata": {},
   "source": [
    "# Probability"
   ]
  },
  {
   "cell_type": "code",
   "execution_count": 1,
   "id": "0eb6e450",
   "metadata": {},
   "outputs": [],
   "source": [
    "import random"
   ]
  },
  {
   "cell_type": "code",
   "execution_count": 2,
   "id": "a4243542",
   "metadata": {},
   "outputs": [],
   "source": [
    "def random_kid():\n",
    "    return random.choice([\"boy\", \"girl\"])"
   ]
  },
  {
   "cell_type": "code",
   "execution_count": 3,
   "id": "57eac201",
   "metadata": {},
   "outputs": [],
   "source": [
    "both_girls = 0\n",
    "older_girl = 0\n",
    "either_girl = 0\n",
    "\n",
    "random.seed(0)\n",
    "for _ in range(10_000):\n",
    "    younger = random_kid()\n",
    "    older = random_kid()\n",
    "    if older == \"girl\":\n",
    "        older_girl += 1\n",
    "    if older == \"girl\" and younger == \"girl\":\n",
    "        both_girls += 1\n",
    "    if older == \"girl\" or younger == \"girl\":\n",
    "        either_girl += 1"
   ]
  },
  {
   "cell_type": "code",
   "execution_count": 4,
   "id": "45fd4033",
   "metadata": {},
   "outputs": [
    {
     "name": "stdout",
     "output_type": "stream",
     "text": [
      "(both | older): 0.5007089325501317\n"
     ]
    }
   ],
   "source": [
    "print(f\"(both | older): {both_girls / older_girl}\")"
   ]
  },
  {
   "cell_type": "code",
   "execution_count": 5,
   "id": "10c05924",
   "metadata": {},
   "outputs": [
    {
     "name": "stdout",
     "output_type": "stream",
     "text": [
      "(both | either): 0.3311897106109325\n"
     ]
    }
   ],
   "source": [
    "print(f\"(both | either): {both_girls / either_girl}\")"
   ]
  },
  {
   "cell_type": "markdown",
   "id": "cf8a5aaf",
   "metadata": {},
   "source": [
    "### Bayes's Theorem"
   ]
  },
  {
   "cell_type": "markdown",
   "id": "336213b1",
   "metadata": {},
   "source": [
    "<img src=\"Bayes.png\">"
   ]
  },
  {
   "cell_type": "markdown",
   "id": "7058d361",
   "metadata": {},
   "source": [
    "### Random Variables"
   ]
  },
  {
   "cell_type": "markdown",
   "id": "15d8a60a",
   "metadata": {},
   "source": [
    "A random variable is a variable whose possible values have an associated probability\n",
    "distribution. A very simple random variable equals 1 if a coin flip turns up heads and 0 if\n",
    "the flip turns up tails."
   ]
  },
  {
   "cell_type": "code",
   "execution_count": null,
   "id": "e7dc9262",
   "metadata": {},
   "outputs": [],
   "source": []
  }
 ],
 "metadata": {
  "kernelspec": {
   "display_name": "Python 3 (ipykernel)",
   "language": "python",
   "name": "python3"
  },
  "language_info": {
   "codemirror_mode": {
    "name": "ipython",
    "version": 3
   },
   "file_extension": ".py",
   "mimetype": "text/x-python",
   "name": "python",
   "nbconvert_exporter": "python",
   "pygments_lexer": "ipython3",
   "version": "3.9.12"
  }
 },
 "nbformat": 4,
 "nbformat_minor": 5
}
