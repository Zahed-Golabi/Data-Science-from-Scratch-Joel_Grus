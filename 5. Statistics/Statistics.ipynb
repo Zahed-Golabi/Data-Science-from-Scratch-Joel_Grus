{
 "cells": [
  {
   "cell_type": "markdown",
   "id": "195e46db",
   "metadata": {},
   "source": [
    "# Statistics"
   ]
  },
  {
   "cell_type": "code",
   "execution_count": 6,
   "id": "cdc07960",
   "metadata": {},
   "outputs": [],
   "source": [
    "import numpy as np\n",
    "import matplotlib.pyplot as plt"
   ]
  },
  {
   "cell_type": "code",
   "execution_count": 16,
   "id": "ddda14a3",
   "metadata": {},
   "outputs": [],
   "source": [
    "num_friends = [100, 49, 41, 40, 25, 49,41, 41, 65,\n",
    "              95, 94, 87, 88, 56, 51, 51, 88, 88, \n",
    "              12, 15, 17, 18, 18, 19, 37, 37, 37, 90, 65, 18,\n",
    "              70, 73, 78, 75, 75, 78, 80, 18]"
   ]
  },
  {
   "cell_type": "code",
   "execution_count": 7,
   "id": "8c0997d8",
   "metadata": {},
   "outputs": [],
   "source": [
    "from collections import Counter"
   ]
  },
  {
   "cell_type": "code",
   "execution_count": 17,
   "id": "059bae92",
   "metadata": {
    "scrolled": true
   },
   "outputs": [
    {
     "data": {
      "image/png": "[encoded data removed]",
      "text/plain": [
       "<Figure size 432x288 with 1 Axes>"
      ]
     },
     "metadata": {
      "needs_background": "light"
     },
     "output_type": "display_data"
    }
   ],
   "source": [
    "friend_counts = Counter(num_friends)\n",
    "xs = range(101)\n",
    "ys = [friend_counts[x] for x in xs]\n",
    "plt.bar(xs, ys)\n",
    "plt.axis([0, 101, 0, 5])\n",
    "plt.title(\"Histogram of Friend Counts\")\n",
    "plt.xlabel(\"# of friends\")\n",
    "plt.ylabel(\"# of people\")\n",
    "plt.show()"
   ]
  },
  {
   "cell_type": "code",
   "execution_count": 19,
   "id": "ff9e520d",
   "metadata": {},
   "outputs": [
    {
     "name": "stdout",
     "output_type": "stream",
     "text": [
      "Number of Points: 38\n"
     ]
    }
   ],
   "source": [
    "num_points = len(num_friends)\n",
    "print(f\"Number of Points: {num_points}\")"
   ]
  },
  {
   "cell_type": "code",
   "execution_count": 20,
   "id": "0c4fe4a3",
   "metadata": {},
   "outputs": [
    {
     "name": "stdout",
     "output_type": "stream",
     "text": [
      "max point is: 100\n",
      "\n",
      "min point is: 12\n",
      "\n"
     ]
    }
   ],
   "source": [
    "max_point = max(num_friends)\n",
    "print(f\"max point is: {max_point}\")\n",
    "print()\n",
    "\n",
    "min_point = min(num_friends)\n",
    "print(f\"min point is: {min_point}\")\n",
    "print()"
   ]
  },
  {
   "cell_type": "code",
   "execution_count": 22,
   "id": "68c6d3a8",
   "metadata": {},
   "outputs": [],
   "source": [
    "sorted_values = sorted(num_friends)\n",
    "smallest_value = sorted_values[0]\n",
    "second_smallest_value = sorted_values[1]\n",
    "\n",
    "largest_value = sorted_values[-1]\n",
    "second_largest_value = sorted_values[-2]"
   ]
  },
  {
   "cell_type": "code",
   "execution_count": null,
   "id": "7e944691",
   "metadata": {},
   "outputs": [],
   "source": []
  },
  {
   "cell_type": "code",
   "execution_count": null,
   "id": "e92911b8",
   "metadata": {},
   "outputs": [],
   "source": []
  }
 ],
 "metadata": {
  "kernelspec": {
   "display_name": "Python 3 (ipykernel)",
   "language": "python",
   "name": "python3"
  },
  "language_info": {
   "codemirror_mode": {
    "name": "ipython",
    "version": 3
   },
   "file_extension": ".py",
   "mimetype": "text/x-python",
   "name": "python",
   "nbconvert_exporter": "python",
   "pygments_lexer": "ipython3",
   "version": "3.9.12"
  }
 },
 "nbformat": 4,
 "nbformat_minor": 5
}
