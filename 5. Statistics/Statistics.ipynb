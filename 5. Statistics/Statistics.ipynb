{
 "cells": [
  {
   "cell_type": "markdown",
   "id": "7df3f943",
   "metadata": {},
   "source": [
    "# Statistics"
   ]
  },
  {
   "cell_type": "code",
   "execution_count": 1,
   "id": "ae954d4b",
   "metadata": {},
   "outputs": [],
   "source": [
    "import numpy as np\n",
    "import matplotlib.pyplot as plt"
   ]
  },
  {
   "cell_type": "code",
   "execution_count": 2,
   "id": "c6d273f9",
   "metadata": {},
   "outputs": [],
   "source": [
    "num_friends = [100, 49, 41, 40, 25, 49,41, 41, 65,\n",
    "              95, 94, 87, 88, 56, 51, 51, 88, 88, \n",
    "              12, 15, 17, 18, 18, 19, 37, 37, 37, 90, 65, 18,\n",
    "              70, 73, 78, 75, 75, 78, 80, 18]"
   ]
  },
  {
   "cell_type": "code",
   "execution_count": 3,
   "id": "c9a016fd",
   "metadata": {},
   "outputs": [],
   "source": [
    "from collections import Counter"
   ]
  },
  {
   "cell_type": "code",
   "execution_count": 4,
   "id": "5abc49cb",
   "metadata": {
    "scrolled": true
   },
   "outputs": [
    {
     "data": {
      "image/png": "[encoded data removed]",
      "text/plain": [
       "<Figure size 432x288 with 1 Axes>"
      ]
     },
     "metadata": {
      "needs_background": "light"
     },
     "output_type": "display_data"
    }
   ],
   "source": [
    "friend_counts = Counter(num_friends)\n",
    "xs = range(101)\n",
    "ys = [friend_counts[x] for x in xs]\n",
    "plt.bar(xs, ys)\n",
    "plt.axis([0, 101, 0, 5])\n",
    "plt.title(\"Histogram of Friend Counts\")\n",
    "plt.xlabel(\"# of friends\")\n",
    "plt.ylabel(\"# of people\")\n",
    "plt.show()"
   ]
  },
  {
   "cell_type": "code",
   "execution_count": 5,
   "id": "6ecf6d7c",
   "metadata": {},
   "outputs": [
    {
     "name": "stdout",
     "output_type": "stream",
     "text": [
      "Number of Points: 38\n"
     ]
    }
   ],
   "source": [
    "num_points = len(num_friends)\n",
    "print(f\"Number of Points: {num_points}\")"
   ]
  },
  {
   "cell_type": "code",
   "execution_count": 6,
   "id": "3eb06247",
   "metadata": {},
   "outputs": [
    {
     "name": "stdout",
     "output_type": "stream",
     "text": [
      "max point is: 100\n",
      "\n",
      "min point is: 12\n",
      "\n"
     ]
    }
   ],
   "source": [
    "max_point = max(num_friends)\n",
    "print(f\"max point is: {max_point}\")\n",
    "print()\n",
    "\n",
    "min_point = min(num_friends)\n",
    "print(f\"min point is: {min_point}\")\n",
    "print()"
   ]
  },
  {
   "cell_type": "code",
   "execution_count": 7,
   "id": "6354dd0d",
   "metadata": {},
   "outputs": [],
   "source": [
    "sorted_values = sorted(num_friends)\n",
    "smallest_value = sorted_values[0]\n",
    "second_smallest_value = sorted_values[1]\n",
    "\n",
    "largest_value = sorted_values[-1]\n",
    "second_largest_value = sorted_values[-2]"
   ]
  },
  {
   "cell_type": "markdown",
   "id": "0b00804c",
   "metadata": {},
   "source": [
    "### Central Tendencies"
   ]
  },
  {
   "cell_type": "code",
   "execution_count": 8,
   "id": "490aa298",
   "metadata": {},
   "outputs": [],
   "source": [
    "# mean\n",
    "def mean(lst: list) -> int:\n",
    "    return sum(lst) / len(lst)"
   ]
  },
  {
   "cell_type": "code",
   "execution_count": 9,
   "id": "7e885611",
   "metadata": {},
   "outputs": [
    {
     "name": "stdout",
     "output_type": "stream",
     "text": [
      "\n",
      "num of friend's mean is: 54.71052631578947\n",
      "\n"
     ]
    }
   ],
   "source": [
    "mean_num_of_friends = mean(num_friends)\n",
    "print()\n",
    "print(f\"num of friend's mean is: {mean_num_of_friends}\")\n",
    "print()"
   ]
  },
  {
   "cell_type": "code",
   "execution_count": 10,
   "id": "04b7e002",
   "metadata": {},
   "outputs": [],
   "source": [
    "# median\n",
    "def median(v):\n",
    "    \"\"\"finds the 'middle-most' value of v\"\"\"\n",
    "    n = len(v)\n",
    "    sorted_v = sorted(v)\n",
    "    midpoint = n // 2\n",
    "    if n % 2 == 1:\n",
    "        # if odd, return the middle value\n",
    "        return sorted_v[midpoint]\n",
    "    \n",
    "    elif n == 0:\n",
    "        return \"The list is empty\"\n",
    "    \n",
    "    else:\n",
    "        # if even, return the average of the middle values\n",
    "        lo = midpoint - 1\n",
    "        hi = midpoint\n",
    "        return (sorted_v[lo] + sorted_v[hi]) / 2\n",
    "    "
   ]
  },
  {
   "cell_type": "code",
   "execution_count": 11,
   "id": "ad41526d",
   "metadata": {},
   "outputs": [
    {
     "data": {
      "text/plain": [
       "'The list is empty'"
      ]
     },
     "execution_count": 11,
     "metadata": {},
     "output_type": "execute_result"
    }
   ],
   "source": [
    "median([])"
   ]
  },
  {
   "cell_type": "code",
   "execution_count": 12,
   "id": "acaa5b03",
   "metadata": {},
   "outputs": [
    {
     "data": {
      "text/plain": [
       "6.0"
      ]
     },
     "execution_count": 12,
     "metadata": {},
     "output_type": "execute_result"
    }
   ],
   "source": [
    "median([8,3,5,7])"
   ]
  },
  {
   "cell_type": "code",
   "execution_count": 13,
   "id": "fefccfa0",
   "metadata": {},
   "outputs": [],
   "source": [
    "def quantile(x, p):\n",
    "    \"\"\"returns the pth-percentile value in x\"\"\"\n",
    "    p_index = int(p * len(x))\n",
    "    return sorted(x)[p_index]"
   ]
  },
  {
   "cell_type": "code",
   "execution_count": 14,
   "id": "8805345f",
   "metadata": {},
   "outputs": [
    {
     "name": "stdout",
     "output_type": "stream",
     "text": [
      "18\n",
      "37\n",
      "78\n",
      "90\n"
     ]
    }
   ],
   "source": [
    "print(quantile(num_friends, 0.10))\n",
    "print(quantile(num_friends, 0.25))\n",
    "print(quantile(num_friends, 0.75))\n",
    "print(quantile(num_friends, 0.90))"
   ]
  },
  {
   "cell_type": "code",
   "execution_count": 15,
   "id": "5dc9d704",
   "metadata": {},
   "outputs": [],
   "source": [
    "def mode(x):\n",
    "    \"\"\"returns a list, might be more than one mode\"\"\"\n",
    "    counts = Counter(x)\n",
    "    print(counts)\n",
    "    print()\n",
    "    max_count = max(counts.values())\n",
    "    print(max_count)\n",
    "    return [x_i for x_i, count in counts.items()\n",
    "           if count == max_count]"
   ]
  },
  {
   "cell_type": "code",
   "execution_count": 16,
   "id": "2a0a1179",
   "metadata": {},
   "outputs": [
    {
     "name": "stdout",
     "output_type": "stream",
     "text": [
      "Counter({18: 4, 41: 3, 88: 3, 37: 3, 49: 2, 65: 2, 51: 2, 78: 2, 75: 2, 100: 1, 40: 1, 25: 1, 95: 1, 94: 1, 87: 1, 56: 1, 12: 1, 15: 1, 17: 1, 19: 1, 90: 1, 70: 1, 73: 1, 80: 1})\n",
      "\n",
      "4\n"
     ]
    },
    {
     "data": {
      "text/plain": [
       "[18]"
      ]
     },
     "execution_count": 16,
     "metadata": {},
     "output_type": "execute_result"
    }
   ],
   "source": [
    "mode(num_friends)"
   ]
  },
  {
   "cell_type": "markdown",
   "id": "03cd00f9",
   "metadata": {},
   "source": [
    "### Dispersion"
   ]
  },
  {
   "cell_type": "markdown",
   "id": "7dc455a1",
   "metadata": {},
   "source": [
    "Dispersion refers to measures of how spread out our data is."
   ]
  },
  {
   "cell_type": "code",
   "execution_count": 18,
   "id": "b86c5a9b",
   "metadata": {},
   "outputs": [],
   "source": [
    "# \"range\" already means something in python, so we'll use a different name\n",
    "def data_range(x):\n",
    "    return max(x) - min(x)"
   ]
  },
  {
   "cell_type": "code",
   "execution_count": 19,
   "id": "2840f6cc",
   "metadata": {},
   "outputs": [
    {
     "name": "stdout",
     "output_type": "stream",
     "text": [
      "88\n"
     ]
    }
   ],
   "source": [
    "print(data_range(num_friends))"
   ]
  },
  {
   "cell_type": "code",
   "execution_count": 20,
   "id": "24a8a5ec",
   "metadata": {},
   "outputs": [],
   "source": [
    "def de_mean(x):\n",
    "    \"\"\"translate x by subtracting its mean (so the result has mean 0)\"\"\"\n",
    "    x_bar = mean(x)\n",
    "    return [x_i - x_bar for x_i in x]"
   ]
  },
  {
   "cell_type": "code",
   "execution_count": 21,
   "id": "4c040b82",
   "metadata": {},
   "outputs": [],
   "source": [
    "def sum_of_squares(x):\n",
    "    return sum(x_i * x_i for x_i in x)\n"
   ]
  },
  {
   "cell_type": "code",
   "execution_count": 22,
   "id": "f346fee3",
   "metadata": {},
   "outputs": [],
   "source": [
    "def variance(x):\n",
    "    n = len(x)\n",
    "    deviation = de_mean(x)\n",
    "    return sum_of_squares(deviation)/ (n - 1)"
   ]
  },
  {
   "cell_type": "code",
   "execution_count": 23,
   "id": "14c6178c",
   "metadata": {
    "scrolled": true
   },
   "outputs": [
    {
     "name": "stdout",
     "output_type": "stream",
     "text": [
      "766.1031294452349\n"
     ]
    }
   ],
   "source": [
    "print(variance(num_friends))"
   ]
  },
  {
   "cell_type": "code",
   "execution_count": 24,
   "id": "20696c5e",
   "metadata": {},
   "outputs": [],
   "source": [
    "def standard_deviation(x):\n",
    "    return math.sqrt(variance(x))"
   ]
  },
  {
   "cell_type": "code",
   "execution_count": 25,
   "id": "d9d82758",
   "metadata": {},
   "outputs": [
    {
     "name": "stdout",
     "output_type": "stream",
     "text": [
      "\n",
      "27.67856805265104\n"
     ]
    }
   ],
   "source": [
    "import math\n",
    "print()\n",
    "print(standard_deviation(num_friends))"
   ]
  },
  {
   "cell_type": "code",
   "execution_count": null,
   "id": "598a43bc",
   "metadata": {},
   "outputs": [],
   "source": []
  }
 ],
 "metadata": {
  "kernelspec": {
   "display_name": "Python 3 (ipykernel)",
   "language": "python",
   "name": "python3"
  },
  "language_info": {
   "codemirror_mode": {
    "name": "ipython",
    "version": 3
   },
   "file_extension": ".py",
   "mimetype": "text/x-python",
   "name": "python",
   "nbconvert_exporter": "python",
   "pygments_lexer": "ipython3",
   "version": "3.9.12"
  }
 },
 "nbformat": 4,
 "nbformat_minor": 5
}
